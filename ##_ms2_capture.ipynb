{
 "cells": [
  {
   "cell_type": "markdown",
   "id": "996a8f87-c7dc-4aa1-9ab0-509b4f75168f",
   "metadata": {},
   "source": [
    "# MS2 analysis"
   ]
  },
  {
   "cell_type": "markdown",
   "id": "a80fceb7-3a0d-4f66-8ee9-47bb98402fd7",
   "metadata": {},
   "source": [
    "Jupyter notebook containing analyses for evaluating impact of MS2 and WPRE on barcode capture in nuclei datasets from Shin & Urbanek. Analyses correspond to !!!!!!! "
   ]
  },
  {
   "cell_type": "markdown",
   "id": "b9f96439-b571-4b8a-94cc-61baa2fd02b8",
   "metadata": {},
   "source": [
    "This notebook contains analyses related to quantifying and visualizing successful barcode capture with three different nuclear capturing strategies:\n",
    "1) KASH only\n",
    "2) KASH+MS2\n",
    "3) KASH+MS2+WPRE"
   ]
  },
  {
   "cell_type": "markdown",
   "id": "971c387e-76f2-48d7-a1fd-73bb7db77601",
   "metadata": {},
   "source": [
    "Input for this analysis requires:\n",
    "\n",
    "1)\n",
    "2)\n",
    "3)\n",
    "\n",
    "Output for this analysis includes:"
   ]
  },
  {
   "cell_type": "markdown",
   "id": "940ea14c-5003-4378-bfc0-71a6465bb684",
   "metadata": {},
   "source": [
    "Module and their versions used when generating figures for the paper can be found in 'requirements.txt', which is stored in our GitHub repository: !!!!!!"
   ]
  },
  {
   "cell_type": "markdown",
   "id": "7dcbc01a-55d8-498b-881e-8bd457cde4af",
   "metadata": {},
   "source": [
    "This code was last amended by Maddie Urbanek on !!!!!"
   ]
  },
  {
   "cell_type": "markdown",
   "id": "c276c278-42f9-4cb1-ad80-9f4605a16bd1",
   "metadata": {},
   "source": [
    "## Notebook set-up"
   ]
  },
  {
   "cell_type": "code",
   "execution_count": null,
   "id": "f5868e26-5e24-431c-8d8e-bfd6c7cf76b3",
   "metadata": {},
   "outputs": [],
   "source": []
  },
  {
   "cell_type": "markdown",
   "id": "833d18ec-c63d-4e0e-9e72-894aa6705b61",
   "metadata": {},
   "source": [
    "## Import datasets"
   ]
  }
 ],
 "metadata": {
  "kernelspec": {
   "display_name": "Python 3 (ipykernel)",
   "language": "python",
   "name": "python3"
  },
  "language_info": {
   "codemirror_mode": {
    "name": "ipython",
    "version": 3
   },
   "file_extension": ".py",
   "mimetype": "text/x-python",
   "name": "python",
   "nbconvert_exporter": "python",
   "pygments_lexer": "ipython3",
   "version": "3.9.6"
  }
 },
 "nbformat": 4,
 "nbformat_minor": 5
}

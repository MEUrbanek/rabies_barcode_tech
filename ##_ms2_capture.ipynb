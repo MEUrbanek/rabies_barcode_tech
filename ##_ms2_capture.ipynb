{
 "cells": [
  {
   "cell_type": "markdown",
   "id": "996a8f87-c7dc-4aa1-9ab0-509b4f75168f",
   "metadata": {},
   "source": [
    "# MS2 analysis"
   ]
  },
  {
   "cell_type": "markdown",
   "id": "a80fceb7-3a0d-4f66-8ee9-47bb98402fd7",
   "metadata": {},
   "source": [
    "Jupyter notebook containing analyses for evaluating impact of MS2 and WPRE on barcode capture in nuclei datasets from Shin & Urbanek. Analyses correspond to !!!!!!! "
   ]
  },
  {
   "cell_type": "markdown",
   "id": "b9f96439-b571-4b8a-94cc-61baa2fd02b8",
   "metadata": {},
   "source": [
    "This notebook contains analyses related to quantifying and visualizing successful barcode capture with two different nuclear capturing strategies:\n",
    "1) KASH only\n",
    "2) KASH+MS2+WPRE"
   ]
  },
  {
   "cell_type": "markdown",
   "id": "971c387e-76f2-48d7-a1fd-73bb7db77601",
   "metadata": {},
   "source": [
    "Input for this analysis requires:\n",
    "\n",
    "1) Cell barcode list for all cells passing transcriptome QC (nCount, nFeature, and mitochondrial% thresholding) per dataset\n",
    "2) Rabies barcode count matrices with cell barcodes for each dataset\n",
    "3) Flat.txt files normally input into UMI_tools, which will allow you to calculate barcode reads per library\n",
    "\n",
    "Output for this analysis includes:\n",
    "\n",
    "1) Plot showing relationships between barcode UMIs and reads per cell\n",
    "2) Bar plot showing the fraction of each library with a certain number of barcode UMIs"
   ]
  },
  {
   "cell_type": "markdown",
   "id": "940ea14c-5003-4378-bfc0-71a6465bb684",
   "metadata": {},
   "source": [
    "Module and their versions used when generating figures for the paper can be found in 'requirements.txt', which is stored in our GitHub repository: !!!!!!"
   ]
  },
  {
   "cell_type": "markdown",
   "id": "7dcbc01a-55d8-498b-881e-8bd457cde4af",
   "metadata": {},
   "source": [
    "This code was last amended by Maddie Urbanek on !!!!!"
   ]
  },
  {
   "cell_type": "markdown",
   "id": "c276c278-42f9-4cb1-ad80-9f4605a16bd1",
   "metadata": {},
   "source": [
    "## Notebook set-up"
   ]
  },
  {
   "cell_type": "code",
   "execution_count": 66,
   "id": "f5868e26-5e24-431c-8d8e-bfd6c7cf76b3",
   "metadata": {},
   "outputs": [],
   "source": [
    "#Load in modules:\n",
    "import pandas as pd\n",
    "import numpy as np\n",
    "import matplotlib.pyplot as plt\n",
    "import scipy as scipy\n",
    "from itertools import product\n",
    "import seaborn as sns\n",
    "from statsmodels.multivariate.manova import MANOVA"
   ]
  },
  {
   "cell_type": "code",
   "execution_count": 67,
   "id": "18cc3244-0fad-4e10-a237-4f97bf0c15cf",
   "metadata": {},
   "outputs": [],
   "source": [
    "#Set working directory to point to barcode diversity libraries\n",
    "import os\n",
    "os.chdir('/Users/maddieurbanek/Desktop/revision_data/resubmission/data/fastqs/slice_experiments/ms2_comparison/')"
   ]
  },
  {
   "cell_type": "markdown",
   "id": "833d18ec-c63d-4e0e-9e72-894aa6705b61",
   "metadata": {},
   "source": [
    "## Import datasets"
   ]
  },
  {
   "cell_type": "markdown",
   "id": "6dc7d563-3a4b-4746-b9d3-cc50e3c6e735",
   "metadata": {},
   "source": [
    "Import filtered cell barcode lists generated in transcriptome_qc_doublet_filtering.rmd"
   ]
  },
  {
   "cell_type": "code",
   "execution_count": 86,
   "id": "af0e894d-f511-4c41-8e8b-15295d7ae3bd",
   "metadata": {},
   "outputs": [],
   "source": [
    "no_txn=pd.read_table('../../../transcriptome/cellbarcode_lists/no_ms2.csv',delimiter=',')\n",
    "ms2_txn=pd.read_table('../../../transcriptome/cellbarcode_lists/ms2_wpre.csv',delimiter=',')"
   ]
  },
  {
   "cell_type": "markdown",
   "id": "678165f0-2c34-4dc6-a126-d18d51e5ab86",
   "metadata": {},
   "source": [
    "Import rabies barcode count matrices"
   ]
  },
  {
   "cell_type": "code",
   "execution_count": 89,
   "id": "4be422b6-f1a0-4d0e-9faf-f5ab6058a6c6",
   "metadata": {},
   "outputs": [],
   "source": [
    "no_bcs=pd.read_table('./no_ms2/bc/completecounts.tsv',delimiter='\\t')\n",
    "ms2_bcs=pd.read_table('./ms2_wpre/bc/completecounts.tsv',delimiter='\\t')"
   ]
  },
  {
   "cell_type": "markdown",
   "id": "10578858-b5d4-46e0-bc89-d75737d4068f",
   "metadata": {},
   "source": [
    "Import flat.txt files for each library"
   ]
  },
  {
   "cell_type": "code",
   "execution_count": 88,
   "id": "84abe909-e9f0-4ac0-8ddb-c24a82ef1d74",
   "metadata": {},
   "outputs": [],
   "source": [
    "no_flat=pd.read_table('./no_ms2/bc/flat.txt',delimiter='\\t',header=None)\n",
    "ms2_flat=pd.read_table('./ms2_wpre/bc/flat.txt',delimiter='\\t',header=None)"
   ]
  },
  {
   "cell_type": "markdown",
   "id": "7ea16bc7-d774-42f0-874c-d409f9810642",
   "metadata": {},
   "source": [
    "### Filter barcode data down to real cells"
   ]
  },
  {
   "cell_type": "markdown",
   "id": "52d83e10-a912-4ec7-8466-ba0f8e52322b",
   "metadata": {},
   "source": [
    "Barcode UMI count files:"
   ]
  },
  {
   "cell_type": "code",
   "execution_count": 90,
   "id": "5185aa14-894e-477a-9b37-155c0de26952",
   "metadata": {},
   "outputs": [
    {
     "data": {
      "text/html": [
       "<div>\n",
       "<style scoped>\n",
       "    .dataframe tbody tr th:only-of-type {\n",
       "        vertical-align: middle;\n",
       "    }\n",
       "\n",
       "    .dataframe tbody tr th {\n",
       "        vertical-align: top;\n",
       "    }\n",
       "\n",
       "    .dataframe thead th {\n",
       "        text-align: right;\n",
       "    }\n",
       "</style>\n",
       "<table border=\"1\" class=\"dataframe\">\n",
       "  <thead>\n",
       "    <tr style=\"text-align: right;\">\n",
       "      <th></th>\n",
       "      <th>CBC</th>\n",
       "      <th>barcode</th>\n",
       "      <th>UMI_Count</th>\n",
       "    </tr>\n",
       "  </thead>\n",
       "  <tbody>\n",
       "    <tr>\n",
       "      <th>67258</th>\n",
       "      <td>wpre_AAAAAAAAATGGAAGA</td>\n",
       "      <td>barcode</td>\n",
       "      <td>8</td>\n",
       "    </tr>\n",
       "    <tr>\n",
       "      <th>4222</th>\n",
       "      <td>wpre_AAAAAAAGCAGCCATG</td>\n",
       "      <td>barcode</td>\n",
       "      <td>42</td>\n",
       "    </tr>\n",
       "    <tr>\n",
       "      <th>24610</th>\n",
       "      <td>wpre_AAAAACGTCAGACAAA</td>\n",
       "      <td>barcode</td>\n",
       "      <td>17</td>\n",
       "    </tr>\n",
       "    <tr>\n",
       "      <th>17423</th>\n",
       "      <td>wpre_AAAAAGCGAGTTCAGG</td>\n",
       "      <td>barcode</td>\n",
       "      <td>27</td>\n",
       "    </tr>\n",
       "    <tr>\n",
       "      <th>22560</th>\n",
       "      <td>wpre_AAAAAGGTATTTAAAA</td>\n",
       "      <td>barcode</td>\n",
       "      <td>31</td>\n",
       "    </tr>\n",
       "    <tr>\n",
       "      <th>...</th>\n",
       "      <td>...</td>\n",
       "      <td>...</td>\n",
       "      <td>...</td>\n",
       "    </tr>\n",
       "    <tr>\n",
       "      <th>10547</th>\n",
       "      <td>wpre_CCTGAATTAGCTAGAA</td>\n",
       "      <td>barcode</td>\n",
       "      <td>8</td>\n",
       "    </tr>\n",
       "    <tr>\n",
       "      <th>2089</th>\n",
       "      <td>wpre_CCTGACCCAAGCATTA</td>\n",
       "      <td>barcode</td>\n",
       "      <td>38</td>\n",
       "    </tr>\n",
       "    <tr>\n",
       "      <th>19111</th>\n",
       "      <td>wpre_CCTGAGACCATACCTT</td>\n",
       "      <td>barcode</td>\n",
       "      <td>25</td>\n",
       "    </tr>\n",
       "    <tr>\n",
       "      <th>596</th>\n",
       "      <td>wpre_CCTGAGCTATTGAGTG</td>\n",
       "      <td>barcode</td>\n",
       "      <td>34</td>\n",
       "    </tr>\n",
       "    <tr>\n",
       "      <th>19003</th>\n",
       "      <td>wpre_CCTGATAGATTGAACG</td>\n",
       "      <td>barcode</td>\n",
       "      <td>14</td>\n",
       "    </tr>\n",
       "  </tbody>\n",
       "</table>\n",
       "<p>1128 rows × 3 columns</p>\n",
       "</div>"
      ],
      "text/plain": [
       "                         CBC  barcode  UMI_Count\n",
       "67258  wpre_AAAAAAAAATGGAAGA  barcode          8\n",
       "4222   wpre_AAAAAAAGCAGCCATG  barcode         42\n",
       "24610  wpre_AAAAACGTCAGACAAA  barcode         17\n",
       "17423  wpre_AAAAAGCGAGTTCAGG  barcode         27\n",
       "22560  wpre_AAAAAGGTATTTAAAA  barcode         31\n",
       "...                      ...      ...        ...\n",
       "10547  wpre_CCTGAATTAGCTAGAA  barcode          8\n",
       "2089   wpre_CCTGACCCAAGCATTA  barcode         38\n",
       "19111  wpre_CCTGAGACCATACCTT  barcode         25\n",
       "596    wpre_CCTGAGCTATTGAGTG  barcode         34\n",
       "19003  wpre_CCTGATAGATTGAACG  barcode         14\n",
       "\n",
       "[1128 rows x 3 columns]"
      ]
     },
     "execution_count": 90,
     "metadata": {},
     "output_type": "execute_result"
    }
   ],
   "source": [
    "#MS2\n",
    "ms2_bcs['CBC'] = ms2_bcs['CBC'].str.replace('b', '', regex=True)\n",
    "ms2_bcs['CBC'] = ms2_bcs['CBC'].str.replace('\\'', '', regex=True)\n",
    "ms2_bcs['CBC'] = 'wpre_' + ms2_bcs['CBC'].astype(str)\n",
    "ms2_bcs=ms2_bcs.sort_values('CBC')\n",
    "ms2=ms2_bcs.loc[ms2_bcs['CBC'].isin(ms2_txn.x)]\n",
    "ms2\n",
    "\n",
    "#No MS2\n",
    "no_bcs['CBC'] = no_bcs['CBC'].str.replace('b', '', regex=True)\n",
    "no_bcs['CBC'] = no_bcs['CBC'].str.replace('\\'', '', regex=True)\n",
    "no_bcs['CBC'] = 'no_ms2_' + no_bcs['CBC'].astype(str)\n",
    "no_bcs=no_bcs.sort_values('CBC')\n",
    "no_ms2=no_bcs.loc[no_bcs['CBC'].isin(no_txn.x)]\n",
    "ms2"
   ]
  },
  {
   "cell_type": "markdown",
   "id": "8510a606-8b7e-4868-8b5e-ae1901a7aba8",
   "metadata": {},
   "source": [
    "Flat barcode files:"
   ]
  },
  {
   "cell_type": "code",
   "execution_count": 91,
   "id": "243aa8bb-15d9-48a3-9556-bea7c9550220",
   "metadata": {},
   "outputs": [
    {
     "data": {
      "text/html": [
       "<div>\n",
       "<style scoped>\n",
       "    .dataframe tbody tr th:only-of-type {\n",
       "        vertical-align: middle;\n",
       "    }\n",
       "\n",
       "    .dataframe tbody tr th {\n",
       "        vertical-align: top;\n",
       "    }\n",
       "\n",
       "    .dataframe thead th {\n",
       "        text-align: right;\n",
       "    }\n",
       "</style>\n",
       "<table border=\"1\" class=\"dataframe\">\n",
       "  <thead>\n",
       "    <tr style=\"text-align: right;\">\n",
       "      <th></th>\n",
       "      <th>0</th>\n",
       "      <th>1</th>\n",
       "      <th>read_id</th>\n",
       "      <th>UMI</th>\n",
       "      <th>CBC</th>\n",
       "    </tr>\n",
       "  </thead>\n",
       "  <tbody>\n",
       "    <tr>\n",
       "      <th>904381</th>\n",
       "      <td>VH00874:168:AACKG5GHV:2:2503:56064:54198_AAAAA...</td>\n",
       "      <td>barcode</td>\n",
       "      <td>VH00874:168:AACKG5GHV:2:2503:56064:54198</td>\n",
       "      <td>AAAAAAACCAAACCCGCATACTTACAAC</td>\n",
       "      <td>no_ms2_AAAAAAACCAAACCCG</td>\n",
       "    </tr>\n",
       "    <tr>\n",
       "      <th>679657</th>\n",
       "      <td>VH00874:168:AACKG5GHV:2:1504:52807:51510_AAAAA...</td>\n",
       "      <td>barcode</td>\n",
       "      <td>VH00874:168:AACKG5GHV:2:1504:52807:51510</td>\n",
       "      <td>AAAAAAACCAAACCCGTGAGTGCCTGGG</td>\n",
       "      <td>no_ms2_AAAAAAACCAAACCCG</td>\n",
       "    </tr>\n",
       "    <tr>\n",
       "      <th>41509</th>\n",
       "      <td>VH00874:168:AACKG5GHV:1:1201:33948:2136_AAAAAA...</td>\n",
       "      <td>barcode</td>\n",
       "      <td>VH00874:168:AACKG5GHV:1:1201:33948:2136</td>\n",
       "      <td>AAAAAAACCAAACCCGAAAGGATGCTAA</td>\n",
       "      <td>no_ms2_AAAAAAACCAAACCCG</td>\n",
       "    </tr>\n",
       "    <tr>\n",
       "      <th>41429</th>\n",
       "      <td>VH00874:168:AACKG5GHV:1:1201:32016:3007_AAAAAA...</td>\n",
       "      <td>barcode</td>\n",
       "      <td>VH00874:168:AACKG5GHV:1:1201:32016:3007</td>\n",
       "      <td>AAAAAAACCAAACCCGAAAGGATGCTAA</td>\n",
       "      <td>no_ms2_AAAAAAACCAAACCCG</td>\n",
       "    </tr>\n",
       "    <tr>\n",
       "      <th>246514</th>\n",
       "      <td>VH00874:168:AACKG5GHV:1:1613:74924:28754_AAAAA...</td>\n",
       "      <td>barcode</td>\n",
       "      <td>VH00874:168:AACKG5GHV:1:1613:74924:28754</td>\n",
       "      <td>AAAAAAACCAAACCCGTCGGATTATATT</td>\n",
       "      <td>no_ms2_AAAAAAACCAAACCCG</td>\n",
       "    </tr>\n",
       "    <tr>\n",
       "      <th>...</th>\n",
       "      <td>...</td>\n",
       "      <td>...</td>\n",
       "      <td>...</td>\n",
       "      <td>...</td>\n",
       "      <td>...</td>\n",
       "    </tr>\n",
       "    <tr>\n",
       "      <th>605513</th>\n",
       "      <td>VH00874:168:AACKG5GHV:2:1306:74659:20613_CCTGC...</td>\n",
       "      <td>barcode</td>\n",
       "      <td>VH00874:168:AACKG5GHV:2:1306:74659:20613</td>\n",
       "      <td>CCTGCCTGACTTACACTGATAAATATCG</td>\n",
       "      <td>no_ms2_CCTGCCTGACTTACAC</td>\n",
       "    </tr>\n",
       "    <tr>\n",
       "      <th>945600</th>\n",
       "      <td>VH00874:168:AACKG5GHV:2:2604:26809:27599_CCTGC...</td>\n",
       "      <td>barcode</td>\n",
       "      <td>VH00874:168:AACKG5GHV:2:2604:26809:27599</td>\n",
       "      <td>CCTGCCTGACTTACACGTATGAATGTTC</td>\n",
       "      <td>no_ms2_CCTGCCTGACTTACAC</td>\n",
       "    </tr>\n",
       "    <tr>\n",
       "      <th>677553</th>\n",
       "      <td>VH00874:168:AACKG5GHV:2:1503:70891:25176_CCTGC...</td>\n",
       "      <td>barcode</td>\n",
       "      <td>VH00874:168:AACKG5GHV:2:1503:70891:25176</td>\n",
       "      <td>CCTGCCTGACTTACACATGTATAACGTG</td>\n",
       "      <td>no_ms2_CCTGCCTGACTTACAC</td>\n",
       "    </tr>\n",
       "    <tr>\n",
       "      <th>921196</th>\n",
       "      <td>VH00874:168:AACKG5GHV:2:2509:55023:8630_CCTGCC...</td>\n",
       "      <td>barcode</td>\n",
       "      <td>VH00874:168:AACKG5GHV:2:2509:55023:8630</td>\n",
       "      <td>CCTGCCTGACTTACACATGTATAACGTG</td>\n",
       "      <td>no_ms2_CCTGCCTGACTTACAC</td>\n",
       "    </tr>\n",
       "    <tr>\n",
       "      <th>535497</th>\n",
       "      <td>VH00874:168:AACKG5GHV:2:1110:75303:14063_CCTGC...</td>\n",
       "      <td>barcode</td>\n",
       "      <td>VH00874:168:AACKG5GHV:2:1110:75303:14063</td>\n",
       "      <td>CCTGCCTGACTTACACGTATGAATGTTC</td>\n",
       "      <td>no_ms2_CCTGCCTGACTTACAC</td>\n",
       "    </tr>\n",
       "  </tbody>\n",
       "</table>\n",
       "<p>65546 rows × 5 columns</p>\n",
       "</div>"
      ],
      "text/plain": [
       "                                                        0        1  \\\n",
       "904381  VH00874:168:AACKG5GHV:2:2503:56064:54198_AAAAA...  barcode   \n",
       "679657  VH00874:168:AACKG5GHV:2:1504:52807:51510_AAAAA...  barcode   \n",
       "41509   VH00874:168:AACKG5GHV:1:1201:33948:2136_AAAAAA...  barcode   \n",
       "41429   VH00874:168:AACKG5GHV:1:1201:32016:3007_AAAAAA...  barcode   \n",
       "246514  VH00874:168:AACKG5GHV:1:1613:74924:28754_AAAAA...  barcode   \n",
       "...                                                   ...      ...   \n",
       "605513  VH00874:168:AACKG5GHV:2:1306:74659:20613_CCTGC...  barcode   \n",
       "945600  VH00874:168:AACKG5GHV:2:2604:26809:27599_CCTGC...  barcode   \n",
       "677553  VH00874:168:AACKG5GHV:2:1503:70891:25176_CCTGC...  barcode   \n",
       "921196  VH00874:168:AACKG5GHV:2:2509:55023:8630_CCTGCC...  barcode   \n",
       "535497  VH00874:168:AACKG5GHV:2:1110:75303:14063_CCTGC...  barcode   \n",
       "\n",
       "                                         read_id  \\\n",
       "904381  VH00874:168:AACKG5GHV:2:2503:56064:54198   \n",
       "679657  VH00874:168:AACKG5GHV:2:1504:52807:51510   \n",
       "41509    VH00874:168:AACKG5GHV:1:1201:33948:2136   \n",
       "41429    VH00874:168:AACKG5GHV:1:1201:32016:3007   \n",
       "246514  VH00874:168:AACKG5GHV:1:1613:74924:28754   \n",
       "...                                          ...   \n",
       "605513  VH00874:168:AACKG5GHV:2:1306:74659:20613   \n",
       "945600  VH00874:168:AACKG5GHV:2:2604:26809:27599   \n",
       "677553  VH00874:168:AACKG5GHV:2:1503:70891:25176   \n",
       "921196   VH00874:168:AACKG5GHV:2:2509:55023:8630   \n",
       "535497  VH00874:168:AACKG5GHV:2:1110:75303:14063   \n",
       "\n",
       "                                 UMI                      CBC  \n",
       "904381  AAAAAAACCAAACCCGCATACTTACAAC  no_ms2_AAAAAAACCAAACCCG  \n",
       "679657  AAAAAAACCAAACCCGTGAGTGCCTGGG  no_ms2_AAAAAAACCAAACCCG  \n",
       "41509   AAAAAAACCAAACCCGAAAGGATGCTAA  no_ms2_AAAAAAACCAAACCCG  \n",
       "41429   AAAAAAACCAAACCCGAAAGGATGCTAA  no_ms2_AAAAAAACCAAACCCG  \n",
       "246514  AAAAAAACCAAACCCGTCGGATTATATT  no_ms2_AAAAAAACCAAACCCG  \n",
       "...                              ...                      ...  \n",
       "605513  CCTGCCTGACTTACACTGATAAATATCG  no_ms2_CCTGCCTGACTTACAC  \n",
       "945600  CCTGCCTGACTTACACGTATGAATGTTC  no_ms2_CCTGCCTGACTTACAC  \n",
       "677553  CCTGCCTGACTTACACATGTATAACGTG  no_ms2_CCTGCCTGACTTACAC  \n",
       "921196  CCTGCCTGACTTACACATGTATAACGTG  no_ms2_CCTGCCTGACTTACAC  \n",
       "535497  CCTGCCTGACTTACACGTATGAATGTTC  no_ms2_CCTGCCTGACTTACAC  \n",
       "\n",
       "[65546 rows x 5 columns]"
      ]
     },
     "execution_count": 91,
     "metadata": {},
     "output_type": "execute_result"
    }
   ],
   "source": [
    "#Formatting flat files\n",
    "#MS2\n",
    "ms2_flat[['read_id','UMI','CBC']]=ms2_flat[0].str.split('_', expand=True)\n",
    "ms2_flat['CBC'] = 'wpre_' + ms2_flat['CBC'].astype(str)\n",
    "ms2_flat=ms2_flat.sort_values('CBC')\n",
    "ms2_filtered_flat=ms2_flat.loc[ms2_flat['CBC'].isin(ms2_txn.x)]\n",
    "ms2_filtered_flat\n",
    "\n",
    "#No MS2\n",
    "no_flat[['read_id','UMI','CBC']]=no_flat[0].str.split('_', expand=True)\n",
    "no_flat['CBC'] = 'no_ms2_' + no_flat['CBC'].astype(str)\n",
    "no_flat=no_flat.sort_values('CBC')\n",
    "no_filtered_flat=no_flat.loc[no_flat['CBC'].isin(no_txn.x)]\n",
    "no_filtered_flat\n"
   ]
  },
  {
   "cell_type": "markdown",
   "id": "42029c40-c19e-46f8-b5b7-0fb01641fa92",
   "metadata": {},
   "source": [
    "Generate read count files"
   ]
  },
  {
   "cell_type": "code",
   "execution_count": 92,
   "id": "d18f7293-4001-424c-9e96-d22e31bcb627",
   "metadata": {},
   "outputs": [],
   "source": [
    "no_reads=pd.DataFrame(no_filtered_flat['CBC'].value_counts())\n",
    "ms2_reads=pd.DataFrame(ms2_filtered_flat['CBC'].value_counts())"
   ]
  },
  {
   "cell_type": "markdown",
   "id": "21d2c994-aa37-4846-a1cb-02bbb9a26b7a",
   "metadata": {},
   "source": [
    "### Visualization"
   ]
  },
  {
   "cell_type": "markdown",
   "id": "1767e3c9-af87-4429-9d75-ab759aa069ca",
   "metadata": {},
   "source": [
    "##### Barcode UMIs vs. barcode reads per cell by dataset"
   ]
  },
  {
   "cell_type": "code",
   "execution_count": 93,
   "id": "6d698e4b-8326-4216-ab36-031ddcd727c0",
   "metadata": {},
   "outputs": [
    {
     "data": {
      "text/html": [
       "<div>\n",
       "<style scoped>\n",
       "    .dataframe tbody tr th:only-of-type {\n",
       "        vertical-align: middle;\n",
       "    }\n",
       "\n",
       "    .dataframe tbody tr th {\n",
       "        vertical-align: top;\n",
       "    }\n",
       "\n",
       "    .dataframe thead th {\n",
       "        text-align: right;\n",
       "    }\n",
       "</style>\n",
       "<table border=\"1\" class=\"dataframe\">\n",
       "  <thead>\n",
       "    <tr style=\"text-align: right;\">\n",
       "      <th></th>\n",
       "      <th>count</th>\n",
       "    </tr>\n",
       "    <tr>\n",
       "      <th>CBC</th>\n",
       "      <th></th>\n",
       "    </tr>\n",
       "  </thead>\n",
       "  <tbody>\n",
       "    <tr>\n",
       "      <th>wpre_ACGCCATGATTCAGGT</th>\n",
       "      <td>184</td>\n",
       "    </tr>\n",
       "    <tr>\n",
       "      <th>wpre_AATTCACTAGAAAAGG</th>\n",
       "      <td>164</td>\n",
       "    </tr>\n",
       "    <tr>\n",
       "      <th>wpre_ACATCCTGAGATCCGG</th>\n",
       "      <td>157</td>\n",
       "    </tr>\n",
       "    <tr>\n",
       "      <th>wpre_CAATCCGTAAAAATGC</th>\n",
       "      <td>146</td>\n",
       "    </tr>\n",
       "    <tr>\n",
       "      <th>wpre_ATTACATCACGTAGGG</th>\n",
       "      <td>137</td>\n",
       "    </tr>\n",
       "    <tr>\n",
       "      <th>...</th>\n",
       "      <td>...</td>\n",
       "    </tr>\n",
       "    <tr>\n",
       "      <th>wpre_AACCCAAACCAGAGAA</th>\n",
       "      <td>2</td>\n",
       "    </tr>\n",
       "    <tr>\n",
       "      <th>wpre_ACAACAGGCCTAATAG</th>\n",
       "      <td>2</td>\n",
       "    </tr>\n",
       "    <tr>\n",
       "      <th>wpre_AACGCCAACCGAATTT</th>\n",
       "      <td>2</td>\n",
       "    </tr>\n",
       "    <tr>\n",
       "      <th>wpre_CAGAACAGACGACACC</th>\n",
       "      <td>1</td>\n",
       "    </tr>\n",
       "    <tr>\n",
       "      <th>wpre_AGTCACGTAATAAAGT</th>\n",
       "      <td>1</td>\n",
       "    </tr>\n",
       "  </tbody>\n",
       "</table>\n",
       "<p>1128 rows × 1 columns</p>\n",
       "</div>"
      ],
      "text/plain": [
       "                       count\n",
       "CBC                         \n",
       "wpre_ACGCCATGATTCAGGT    184\n",
       "wpre_AATTCACTAGAAAAGG    164\n",
       "wpre_ACATCCTGAGATCCGG    157\n",
       "wpre_CAATCCGTAAAAATGC    146\n",
       "wpre_ATTACATCACGTAGGG    137\n",
       "...                      ...\n",
       "wpre_AACCCAAACCAGAGAA      2\n",
       "wpre_ACAACAGGCCTAATAG      2\n",
       "wpre_AACGCCAACCGAATTT      2\n",
       "wpre_CAGAACAGACGACACC      1\n",
       "wpre_AGTCACGTAATAAAGT      1\n",
       "\n",
       "[1128 rows x 1 columns]"
      ]
     },
     "execution_count": 93,
     "metadata": {},
     "output_type": "execute_result"
    }
   ],
   "source": [
    "#Merge reads and UMIs into one table\n",
    "merged_ms2=pd.merge(ms2, ms2_reads, on=\"CBC\")\n",
    "merged_no=pd.merge(no_ms2, no_reads, on=\"CBC\")\n",
    "ms2_reads"
   ]
  },
  {
   "cell_type": "code",
   "execution_count": 94,
   "id": "99796c22-4297-4934-b70e-75a3ab4c9165",
   "metadata": {},
   "outputs": [
    {
     "data": {
      "image/png": "[encoded data removed]",
      "text/plain": [
       "<Figure size 600x500 with 1 Axes>"
      ]
     },
     "metadata": {},
     "output_type": "display_data"
    }
   ],
   "source": [
    "fig, ax = plt.subplots(figsize=(6,5))\n",
    "sns.regplot(data=merged_no, x='count', y='UMI_Count', color = '#FFC107',scatter_kws={'alpha':0.5},label='No MS2')\n",
    "sns.regplot(data=merged_ms2, x='count', y='UMI_Count', color = '#332288',scatter_kws={'alpha':0.5},label='MS2+WPRE')\n",
    "ax.set_xlim(0, 400)\n",
    "ax.set_ylim(0, 150)\n",
    "\n",
    "ax.figure.savefig(\"../../../../figs/fig_6/ms2_reads_comparison.pdf\")"
   ]
  },
  {
   "cell_type": "markdown",
   "id": "bd8c8423-25c3-42f5-822d-fd66886d61c8",
   "metadata": {},
   "source": [
    "##### Distribution of barcode UMIs per dataset"
   ]
  },
  {
   "cell_type": "code",
   "execution_count": 95,
   "id": "63d0621e-3dbf-4509-9d48-ec174a859d86",
   "metadata": {},
   "outputs": [
    {
     "data": {
      "image/png": "[encoded data removed]",
      "text/plain": [
       "<Figure size 640x500 with 1 Axes>"
      ]
     },
     "metadata": {},
     "output_type": "display_data"
    }
   ],
   "source": [
    "plt.figure().set_figheight(5)\n",
    "plt.hist(merged_no['UMI_Count'],bins=np.arange(0,merged_no['UMI_Count'].max() + 5, 1),color='#FFC107',alpha=0.7,label='No MS2',weights=np.ones(len(merged_no['UMI_Count'])) / len(merged_no['UMI_Count']))\n",
    "plt.hist(merged_ms2['UMI_Count'],bins=np.arange(0, merged_ms2['UMI_Count'].max() + 5, 1),color='#332288',alpha=0.7,label='MS2',weights=np.ones(len(merged_ms2['UMI_Count'])) / len(merged_ms2['UMI_Count']))\n",
    "\n",
    "plt.gca().yaxis.set_major_formatter(PercentFormatter(1))\n",
    "plt.xlabel('Barcode UMIs per cell')\n",
    "#plt.ylabel('Frequency')\n",
    "plt.xlim([-1, 100])\n",
    "#plt.ylim([0,100])\n",
    "#plt.yscale('log')\n",
    "plt.legend()\n",
    "#plt.title('UMIs per Barcode:CBC Combo')\n",
    "plt.savefig('../../../../figs/fig_6/ms2_distributions.pdf', bbox_inches='tight', format='pdf')\n",
    "plt.show()"
   ]
  },
  {
   "cell_type": "code",
   "execution_count": 96,
   "id": "75919ee3-474d-47c8-8ed6-63470296d473",
   "metadata": {},
   "outputs": [
    {
     "data": {
      "image/png": "[encoded data removed]",
      "text/plain": [
       "<Figure size 640x500 with 1 Axes>"
      ]
     },
     "metadata": {},
     "output_type": "display_data"
    }
   ],
   "source": [
    "#After UMI thresholding, after assigning to real cells\n",
    "plt.figure().set_figheight(5)\n",
    "plt.hist(np.log10(merged_no['UMI_Count']),bins=np.arange(0,np.log10(merged_no['UMI_Count']).max() + .01, .075),color='#FFC107',alpha=0.7,label='No MS2',weights=np.ones(len(merged_no['UMI_Count'])) / len(merged_no['UMI_Count']))\n",
    "plt.hist(np.log10(merged_ms2['UMI_Count']),bins=np.arange(0, np.log10(merged_ms2['UMI_Count']).max() + .01, .075),color='#332288',alpha=0.7,label='MS2',weights=np.ones(len(merged_ms2['UMI_Count'])) / len(merged_ms2['UMI_Count']))\n",
    "\n",
    "plt.gca().yaxis.set_major_formatter(PercentFormatter(1))\n",
    "plt.xlabel('Barcode UMIs per cell')\n",
    "#plt.ylabel('Frequency')\n",
    "#plt.xlim([-1, 100])\n",
    "#plt.ylim([0,100])\n",
    "#plt.yscale('log')\n",
    "plt.legend()\n",
    "#plt.title('UMIs per Barcode:CBC Combo')\n",
    "plt.savefig('../../../../figs/fig_6/log_ms2_distributions.pdf', bbox_inches='tight', format='pdf')\n",
    "plt.show()"
   ]
  }
 ],
 "metadata": {
  "kernelspec": {
   "display_name": "Python 3 (ipykernel)",
   "language": "python",
   "name": "python3"
  },
  "language_info": {
   "codemirror_mode": {
    "name": "ipython",
    "version": 3
   },
   "file_extension": ".py",
   "mimetype": "text/x-python",
   "name": "python",
   "nbconvert_exporter": "python",
   "pygments_lexer": "ipython3",
   "version": "3.9.6"
  }
 },
 "nbformat": 4,
 "nbformat_minor": 5
}

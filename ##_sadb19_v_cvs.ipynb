{
 "cells": [
  {
   "cell_type": "markdown",
   "id": "8bdf2e9e-a27f-4695-a0dc-ececc5831529",
   "metadata": {},
   "source": [
    "# SADB19 vs. CVS-N2c comparisons"
   ]
  },
  {
   "cell_type": "markdown",
   "id": "ccb9e642-d2fa-40d4-9d8b-28ab44044ec1",
   "metadata": {},
   "source": [
    "Jupyter notebook containing analyses for looking inflammatory and electrophysiological signatures of cells infected with SADB19 vs. CVS-N2c rabies from Shin & Urbanek. Analyses correspond to !!!!!!"
   ]
  },
  {
   "cell_type": "markdown",
   "id": "986ad7ce-f0da-4f19-ad45-8ab290120e24",
   "metadata": {},
   "source": [
    "This notebook contains analyses to look at cell type distributions, gene enrichment signatures, and differenecs in electrophysiological traits between rabies-infected cells coming from two different strains.\n",
    "\n",
    "Input for this notebook requires:\n",
    "1) AnnData object derived from ##_transcriptome_visualization.ipynb\n",
    "2) Electrophysiology recordings"
   ]
  },
  {
   "cell_type": "code",
   "execution_count": null,
   "id": "849f71ea-1655-49d4-96c1-7844fcae2bb8",
   "metadata": {},
   "outputs": [],
   "source": []
  }
 ],
 "metadata": {
  "kernelspec": {
   "display_name": "Python 3 (ipykernel)",
   "language": "python",
   "name": "python3"
  },
  "language_info": {
   "codemirror_mode": {
    "name": "ipython",
    "version": 3
   },
   "file_extension": ".py",
   "mimetype": "text/x-python",
   "name": "python",
   "nbconvert_exporter": "python",
   "pygments_lexer": "ipython3",
   "version": "3.9.6"
  }
 },
 "nbformat": 4,
 "nbformat_minor": 5
}

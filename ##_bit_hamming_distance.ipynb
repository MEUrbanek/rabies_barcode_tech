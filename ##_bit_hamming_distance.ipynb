{
 "cells": [
  {
   "cell_type": "markdown",
   "id": "009ff759-f86e-4230-a2bf-fcc95d46c874",
   "metadata": {},
   "source": [
    "# Hamming distance analysis of bit libraries"
   ]
  },
  {
   "cell_type": "markdown",
   "id": "82550405-f1d3-47b9-b80e-1fb41b95e7fa",
   "metadata": {},
   "source": [
    "Jupyter notebook containing analysis to visualize hamming distance of bit-based barcoding system. Analyses corespond to !!!!"
   ]
  },
  {
   "cell_type": "markdown",
   "id": "c2d24d56-38d6-47ba-87ff-006f56a5fd69",
   "metadata": {},
   "source": [
    "Input for this notebook requires:\n",
    "1) A .csv file with the three sets of 500 possible bit options\n",
    "2) A .csv file with % of non-mapping, single mapping, and multi-mapping bits from each of the bit-based viral diversity libraries"
   ]
  },
  {
   "cell_type": "markdown",
   "id": "5e4ad9a0-2fa7-4ed0-a374-b98879df4751",
   "metadata": {},
   "source": [
    "Output for this notebook includes:\n",
    "1) Histograms showing hamming distance for each bit x bit combination\n",
    "2) Bar plot showing percentage of bits from diversity libraries that either don't map, map to a single bit, or are multi-mapping"
   ]
  },
  {
   "cell_type": "markdown",
   "id": "5e108b6f-60dc-445f-bce2-eb537a5c4cac",
   "metadata": {},
   "source": [
    "Module and their versions used when generating figures for the paper can be found in 'requirements.txt', which is stored in our GitHub repository: !!!!!!"
   ]
  },
  {
   "cell_type": "markdown",
   "id": "ca75a80a-cfa7-4fb9-8ef3-06f8e41a513d",
   "metadata": {},
   "source": [
    "This code was last amended by Maddie Urbanek on !!!!!"
   ]
  },
  {
   "cell_type": "markdown",
   "id": "41dd5901-5e38-4cb0-bdac-7286b93a5230",
   "metadata": {},
   "source": [
    "## Notebook set-up"
   ]
  },
  {
   "cell_type": "code",
   "execution_count": 1,
   "id": "0d2b9da0-5946-43ad-a03a-3f2a1f8a8e15",
   "metadata": {},
   "outputs": [],
   "source": [
    "import seaborn as sns\n",
    "import pandas as pd\n",
    "import numpy as np\n",
    "import matplotlib.pyplot as plt\n",
    "from scipy import stats"
   ]
  },
  {
   "cell_type": "code",
   "execution_count": 2,
   "id": "dbdf80ca-6fda-486d-8cb3-a1c0c15bbaa9",
   "metadata": {},
   "outputs": [],
   "source": [
    "#Set working directory to point to barcode diversity STICR sequence table\n",
    "import os\n",
    "os.chdir('/Users/maddieurbanek/Desktop/revision_data/resubmission/data/barcode_diversity_libraries/')"
   ]
  },
  {
   "cell_type": "markdown",
   "id": "8977126c-8368-41b1-a000-043cd1bcc91e",
   "metadata": {},
   "source": [
    "## Load in and format data"
   ]
  },
  {
   "cell_type": "code",
   "execution_count": 5,
   "id": "1fbaece3-70e2-4749-8219-776222035567",
   "metadata": {},
   "outputs": [
    {
     "data": {
      "text/html": [
       "<div>\n",
       "<style scoped>\n",
       "    .dataframe tbody tr th:only-of-type {\n",
       "        vertical-align: middle;\n",
       "    }\n",
       "\n",
       "    .dataframe tbody tr th {\n",
       "        vertical-align: top;\n",
       "    }\n",
       "\n",
       "    .dataframe thead th {\n",
       "        text-align: right;\n",
       "    }\n",
       "</style>\n",
       "<table border=\"1\" class=\"dataframe\">\n",
       "  <thead>\n",
       "    <tr style=\"text-align: right;\">\n",
       "      <th></th>\n",
       "      <th>bit1</th>\n",
       "      <th>bit1r</th>\n",
       "      <th>bit2</th>\n",
       "      <th>bit2r</th>\n",
       "      <th>bit3</th>\n",
       "      <th>bit3r</th>\n",
       "    </tr>\n",
       "  </thead>\n",
       "  <tbody>\n",
       "    <tr>\n",
       "      <th>0</th>\n",
       "      <td>AATTCCATAGGGGCACAGCCG</td>\n",
       "      <td>GATCCGGCTGTGCCCCTATGG</td>\n",
       "      <td>GATCCTGCCAGAACCGAGGG</td>\n",
       "      <td>CTAGCCCTCGGTTCTGGCAG</td>\n",
       "      <td>CTAGCGCCAGTTCTTTGCCC</td>\n",
       "      <td>TCGAGGGCAAAGAACTGGCG</td>\n",
       "    </tr>\n",
       "    <tr>\n",
       "      <th>1</th>\n",
       "      <td>&gt;Fragment1_F_002</td>\n",
       "      <td>&gt;Fragment1_R_002</td>\n",
       "      <td>&gt;Fragment2_F_002</td>\n",
       "      <td>&gt;Fragment2_R_002</td>\n",
       "      <td>&gt;Fragment3_F_002</td>\n",
       "      <td>&gt;Fragment3_R_002</td>\n",
       "    </tr>\n",
       "    <tr>\n",
       "      <th>2</th>\n",
       "      <td>AATTCCGATTCACATAGGGGG</td>\n",
       "      <td>GATCCCCCCTATGTGAATCGG</td>\n",
       "      <td>GATCGCCAAAGTGGGCGTGG</td>\n",
       "      <td>CTAGCCACGCCCACTTTGGC</td>\n",
       "      <td>CTAGGTACTTGCCTGGCCTC</td>\n",
       "      <td>TCGAGAGGCCAGGCAAGTAC</td>\n",
       "    </tr>\n",
       "    <tr>\n",
       "      <th>3</th>\n",
       "      <td>&gt;Fragment1_F_003</td>\n",
       "      <td>&gt;Fragment1_R_003</td>\n",
       "      <td>&gt;Fragment2_F_003</td>\n",
       "      <td>&gt;Fragment2_R_003</td>\n",
       "      <td>&gt;Fragment3_F_003</td>\n",
       "      <td>&gt;Fragment3_R_003</td>\n",
       "    </tr>\n",
       "    <tr>\n",
       "      <th>4</th>\n",
       "      <td>AATTCGCAACAATGCGCTGTG</td>\n",
       "      <td>GATCCACAGCGCATTGTTGCG</td>\n",
       "      <td>GATCGATGACAGCACGTCGG</td>\n",
       "      <td>CTAGCCGACGTGCTGTCATC</td>\n",
       "      <td>CTAGCATTCGGCATTCCGAC</td>\n",
       "      <td>TCGAGTCGGAATGCCGAATG</td>\n",
       "    </tr>\n",
       "    <tr>\n",
       "      <th>...</th>\n",
       "      <td>...</td>\n",
       "      <td>...</td>\n",
       "      <td>...</td>\n",
       "      <td>...</td>\n",
       "      <td>...</td>\n",
       "      <td>...</td>\n",
       "    </tr>\n",
       "    <tr>\n",
       "      <th>994</th>\n",
       "      <td>AATTCCTACCCGCGCAGGACG</td>\n",
       "      <td>GATCCGTCCTGCGCGGGTAGG</td>\n",
       "      <td>GATCATGTGAGCTGCGAGAG</td>\n",
       "      <td>CTAGCTCTCGCAGCTCACAT</td>\n",
       "      <td>CTAGTAACGGACGGGTTGTC</td>\n",
       "      <td>TCGAGACAACCCGTCCGTTA</td>\n",
       "    </tr>\n",
       "    <tr>\n",
       "      <th>995</th>\n",
       "      <td>&gt;Fragment1_F_499</td>\n",
       "      <td>&gt;Fragment1_R_499</td>\n",
       "      <td>&gt;Fragment2_F_499</td>\n",
       "      <td>&gt;Fragment2_R_499</td>\n",
       "      <td>&gt;Fragment3_F_499</td>\n",
       "      <td>&gt;Fragment3_R_499</td>\n",
       "    </tr>\n",
       "    <tr>\n",
       "      <th>996</th>\n",
       "      <td>AATTCGTAAGCGGGAGTCACG</td>\n",
       "      <td>GATCCGTGACTCCCGCTTACG</td>\n",
       "      <td>GATCAGCTCGGGCGGCAAGG</td>\n",
       "      <td>CTAGCCTTGCCGCCCGAGCT</td>\n",
       "      <td>CTAGGTTCATCCGAAAGCGC</td>\n",
       "      <td>TCGAGCGCTTTCGGATGAAC</td>\n",
       "    </tr>\n",
       "    <tr>\n",
       "      <th>997</th>\n",
       "      <td>&gt;Fragment1_F_500</td>\n",
       "      <td>&gt;Fragment1_R_500</td>\n",
       "      <td>&gt;Fragment2_F_500</td>\n",
       "      <td>&gt;Fragment2_R_500</td>\n",
       "      <td>&gt;Fragment3_F_500</td>\n",
       "      <td>&gt;Fragment3_R_500</td>\n",
       "    </tr>\n",
       "    <tr>\n",
       "      <th>998</th>\n",
       "      <td>AATTCACACTGCCTCTGAGCG</td>\n",
       "      <td>GATCCGCTCAGAGGCAGTGTG</td>\n",
       "      <td>GATCATCTGCCCGCAGCGAG</td>\n",
       "      <td>CTAGCTCGCTGCGGGCAGAT</td>\n",
       "      <td>CTAGTGTACATCGGAGGACC</td>\n",
       "      <td>TCGAGGTCCTCCGATGTACA</td>\n",
       "    </tr>\n",
       "  </tbody>\n",
       "</table>\n",
       "<p>999 rows × 6 columns</p>\n",
       "</div>"
      ],
      "text/plain": [
       "                      bit1                  bit1r                  bit2  \\\n",
       "0    AATTCCATAGGGGCACAGCCG  GATCCGGCTGTGCCCCTATGG  GATCCTGCCAGAACCGAGGG   \n",
       "1         >Fragment1_F_002       >Fragment1_R_002      >Fragment2_F_002   \n",
       "2    AATTCCGATTCACATAGGGGG  GATCCCCCCTATGTGAATCGG  GATCGCCAAAGTGGGCGTGG   \n",
       "3         >Fragment1_F_003       >Fragment1_R_003      >Fragment2_F_003   \n",
       "4    AATTCGCAACAATGCGCTGTG  GATCCACAGCGCATTGTTGCG  GATCGATGACAGCACGTCGG   \n",
       "..                     ...                    ...                   ...   \n",
       "994  AATTCCTACCCGCGCAGGACG  GATCCGTCCTGCGCGGGTAGG  GATCATGTGAGCTGCGAGAG   \n",
       "995       >Fragment1_F_499       >Fragment1_R_499      >Fragment2_F_499   \n",
       "996  AATTCGTAAGCGGGAGTCACG  GATCCGTGACTCCCGCTTACG  GATCAGCTCGGGCGGCAAGG   \n",
       "997       >Fragment1_F_500       >Fragment1_R_500      >Fragment2_F_500   \n",
       "998  AATTCACACTGCCTCTGAGCG  GATCCGCTCAGAGGCAGTGTG  GATCATCTGCCCGCAGCGAG   \n",
       "\n",
       "                    bit2r                  bit3                 bit3r  \n",
       "0    CTAGCCCTCGGTTCTGGCAG  CTAGCGCCAGTTCTTTGCCC  TCGAGGGCAAAGAACTGGCG  \n",
       "1        >Fragment2_R_002      >Fragment3_F_002      >Fragment3_R_002  \n",
       "2    CTAGCCACGCCCACTTTGGC  CTAGGTACTTGCCTGGCCTC  TCGAGAGGCCAGGCAAGTAC  \n",
       "3        >Fragment2_R_003      >Fragment3_F_003      >Fragment3_R_003  \n",
       "4    CTAGCCGACGTGCTGTCATC  CTAGCATTCGGCATTCCGAC  TCGAGTCGGAATGCCGAATG  \n",
       "..                    ...                   ...                   ...  \n",
       "994  CTAGCTCTCGCAGCTCACAT  CTAGTAACGGACGGGTTGTC  TCGAGACAACCCGTCCGTTA  \n",
       "995      >Fragment2_R_499      >Fragment3_F_499      >Fragment3_R_499  \n",
       "996  CTAGCCTTGCCGCCCGAGCT  CTAGGTTCATCCGAAAGCGC  TCGAGCGCTTTCGGATGAAC  \n",
       "997      >Fragment2_R_500      >Fragment3_F_500      >Fragment3_R_500  \n",
       "998  CTAGCTCGCTGCGGGCAGAT  CTAGTGTACATCGGAGGACC  TCGAGGTCCTCCGATGTACA  \n",
       "\n",
       "[999 rows x 6 columns]"
      ]
     },
     "execution_count": 5,
     "metadata": {},
     "output_type": "execute_result"
    }
   ],
   "source": [
    "#Read in STICR bit table and rename columns\n",
    "delgado = pd.read_table(\"./sticr_500_sequence_table.csv\",delimiter=',')\n",
    "delgado.columns=['bit1','bit1r','bit2','bit2r','bit3','bit3r']"
   ]
  },
  {
   "cell_type": "code",
   "execution_count": 8,
   "id": "6e58fa13-17b8-42f1-bf42-99c694c0f2c2",
   "metadata": {},
   "outputs": [],
   "source": [
    "#Format input for hamming distance calculations\n",
    "delgado1=delgado[['bit1']].squeeze()\n",
    "delgado2=delgado[['bit2']].squeeze()\n",
    "delgado3=delgado[['bit3']].squeeze()\n",
    "delgado1 = delgado1[delgado1.index % 2 != 1]  \n",
    "delgado2 = delgado2[delgado2.index % 2 != 1]  \n",
    "delgado3 = delgado3[delgado3.index % 2 != 1]  "
   ]
  },
  {
   "cell_type": "markdown",
   "id": "1b393fdc-8986-4c90-a9e3-cf9714e9a936",
   "metadata": {},
   "source": [
    "## Build functions for calculating hamming distance"
   ]
  },
  {
   "cell_type": "code",
   "execution_count": 9,
   "id": "7ba1d1ec-7b47-4d41-8038-40630f8e557f",
   "metadata": {},
   "outputs": [],
   "source": [
    "#Import itertools's product function\n",
    "from itertools import product"
   ]
  },
  {
   "cell_type": "code",
   "execution_count": null,
   "id": "a05a2d3d-fd0d-49e8-98e8-9d5cd601e9bc",
   "metadata": {},
   "outputs": [],
   "source": [
    "#Build function for calculating hamming distance by parsing through each letter in the bit string\n",
    "def hamming_dist(str1, str2):\n",
    "    hamming = 0\n",
    "    for letter in range(len(str1)):\n",
    "        if str1[letter] != str2[letter]:\n",
    "            hamming += 1\n",
    "    return hamming"
   ]
  },
  {
   "cell_type": "markdown",
   "id": "fc14d920-4197-4364-855c-0458e222d058",
   "metadata": {},
   "source": [
    "## Calculate hamming distances for 500 bit options"
   ]
  },
  {
   "cell_type": "markdown",
   "id": "3390eeb9-8581-4775-8d23-161a46e88724",
   "metadata": {},
   "source": [
    "##### Bit 1"
   ]
  },
  {
   "cell_type": "code",
   "execution_count": null,
   "id": "9c39c892-4e33-4d04-b7fa-2e858fb8a75d",
   "metadata": {},
   "outputs": [],
   "source": [
    "delgado1hammed = pd.DataFrame([hamming_dist(*p) for p in product(delgado1,delgado1)])\n",
    "delgado1hammed = delgado1hammed.loc[(delgado1hammed!=0).any(axis=1)]\n",
    "print(delgado1hammed.head)\n",
    "\n",
    "delgado1hammed.columns=['values']\n",
    "delgado1hammed=delgado1hammed.sort_values(by='values')\n",
    "\n",
    "# Get all odd indexes\n",
    "delgado1hammed = delgado1hammed[1::2]\n",
    "#Add a 0 so histogram scale goes out to that\n",
    "delgado1hammed= pd.concat([delgado1hammed, pd.DataFrame({\"values\":[1]})], ignore_index=True)\n",
    "delgado1hammed.to_csv('/Users/maddieurbanek/Desktop/Source/S1/delgado_bit1.txt')\n",
    "plt.hist(delgado1hammed['values'],bins=[1,2,3,4,5,6,7,8,9,10,11,12,13,14,15,16,17,18], color='#CC6677')\n",
    "plt.xlabel('Pairwise Hamming Distance')\n",
    "plt.ylabel('# of Pairs')\n",
    "plt.title('Hamming Distribution for Bit 1 Sequences')\n",
    "plt.draw()\n",
    "plt.savefig('../../figs/sfig1/delgado_bit1_hamming_distance.svg', bbox_inches='tight', format='svg')\n",
    "plt.show()"
   ]
  },
  {
   "cell_type": "markdown",
   "id": "a600f3fe-2baa-4ada-9849-d11dffe040d1",
   "metadata": {},
   "source": [
    "##### Bit 2"
   ]
  },
  {
   "cell_type": "code",
   "execution_count": null,
   "id": "e9f5f8f0-2a3b-4484-967c-3722c2a6bd4a",
   "metadata": {},
   "outputs": [],
   "source": [
    "delgado2hammed = pd.DataFrame([hamming_dist(*p) for p in product(delgado2,delgado2)])\n",
    "delgado2hammed = delgado2hammed.loc[(delgado2hammed!=0).any(axis=1)]\n",
    "\n",
    "delgado2hammed.columns=['values']\n",
    "delgado2hammed=delgado2hammed.sort_values(by='values')\n",
    "\n",
    "# Get all odd indexes\n",
    "delgado2hammed = delgado2hammed[1::2]\n",
    "#Add a 0 so histogram scale goes out to that\n",
    "delgado2hammed= pd.concat([delgado2hammed, pd.DataFrame({\"values\":[1]})], ignore_index=True)\n",
    "delgado2hammed.to_csv('/Users/maddieurbanek/Desktop/Source/S1/delgado_bit2.txt')\n",
    "plt.hist(delgado2hammed['values'],bins=[1,2,3,4,5,6,7,8,9,10,11,12,13,14,15,16,17,18],color='#DDCC77')\n",
    "plt.xlabel('Pairwise Hamming Distance')\n",
    "plt.ylabel('# of Pairs')\n",
    "plt.title('Hamming Distribution for Bit 2 Sequences')\n",
    "plt.draw()\n",
    "plt.savefig('../../figs/sfig1/delgado_bit2_hamming_distance.svg', bbox_inches='tight', format='svg')\n",
    "plt.show()"
   ]
  },
  {
   "cell_type": "markdown",
   "id": "57222b20-d861-46e4-9b7c-3c6774bbadde",
   "metadata": {},
   "source": [
    "##### Bit 3"
   ]
  },
  {
   "cell_type": "code",
   "execution_count": null,
   "id": "124addb9-c40f-406e-ab75-7c39064f418b",
   "metadata": {},
   "outputs": [],
   "source": [
    "delgado3hammed = pd.DataFrame([hamming_dist(*p) for p in product(delgado3,delgado3)])\n",
    "delgado3hammed = delgado3hammed.loc[(delgado3hammed!=0).any(axis=1)]\n",
    "\n",
    "delgado3hammed.columns=['values']\n",
    "delgado3hammed=delgado3hammed.sort_values(by='values')\n",
    "\n",
    "# Get all odd indexes\n",
    "delgado3hammed = delgado3hammed[1::2]\n",
    "#Add a 0 so histogram scale goes out to that\n",
    "delgado3hammed= pd.concat([delgado3hammed, pd.DataFrame({\"values\":[1]})], ignore_index=True)\n",
    "delgado3hammed.to_csv('/Users/maddieurbanek/Desktop/Source/S1/delgado_bit3.txt')\n",
    "plt.hist(delgado3hammed['values'],bins=[1,2,3,4,5,6,7,8,9,10,11,12,13,14,15,16,17,18],color='#44AA99')\n",
    "plt.xlabel('Pairwise Hamming Distance')\n",
    "plt.ylabel('# of Pairs')\n",
    "plt.title('Hamming Distribution for Bit 3 Sequences')\n",
    "plt.draw()\n",
    "plt.savefig('../../figs/sfig1/delgado_bit3_hamming_distance.svg', bbox_inches='tight', format='svg')\n",
    "plt.show()"
   ]
  },
  {
   "cell_type": "markdown",
   "id": "42994ae9-707a-476b-8e8a-94064b2900bc",
   "metadata": {},
   "source": [
    "## Visualize percentage of reads from each replicate aligning"
   ]
  },
  {
   "cell_type": "markdown",
   "id": "22deecf8-ecef-497d-9608-ae49923af6aa",
   "metadata": {},
   "source": [
    "### Load data"
   ]
  },
  {
   "cell_type": "code",
   "execution_count": null,
   "id": "c14059a9-20a2-4d1b-a774-9440a1e10982",
   "metadata": {},
   "outputs": [],
   "source": [
    "#% Bit Aligning (S1b)\n",
    "#bit1=CC6677\n",
    "#bit2=DDCC77\n",
    "#bit3=44AA99\n",
    "\n",
    "bits=pd.read_table('../bit_alignment.csv',delimiter=',')\n",
    "print(bits)\n",
    "\n",
    "#x = np.arange(len(groups))\n",
    "width= 0.20\n",
    "nonmapping=(1.26,1.73,1.89)\n",
    "singlemapping=(98.73,98.26,98.10)\n",
    "multimapping=(0,0,0)"
   ]
  },
  {
   "cell_type": "markdown",
   "id": "2c763b29-f21e-4283-a585-7ccd449e1113",
   "metadata": {},
   "source": [
    "### Plot"
   ]
  },
  {
   "cell_type": "code",
   "execution_count": null,
   "id": "1bfea1d6-52d3-4f42-bea0-e71bb57646b2",
   "metadata": {},
   "outputs": [],
   "source": [
    "plt.bar(x-0.2, nonmapping, width, color='#332288') \n",
    "plt.bar(x, singlemapping, width, color='#117733') \n",
    "plt.bar(x+0.2, multimapping, width, color='#44AA99') \n",
    "plt.xticks(x, ['Bit 1', 'Bit 2', 'Bit 3',]) \n",
    "#plt.xlabel(\"Cell Types\")\n",
    "plt.ylabel(\"Percentage of Reads\") \n",
    "plt.title('Mapping Frequency Across Bits')\n",
    "plt.legend([\"Non-Mapping\", \"Single-Mapping\",'Multi-Mapping'],loc='upper right', bbox_to_anchor=(0.813, 0.9),\n",
    "fontsize=\"8\") \n",
    "#plt.draw()\n",
    "#plt.savefig('../../figs/sfig1/mapping_frequency_barplot.svg', bbox_inches='tight', format='svg')\n",
    "plt.show()"
   ]
  }
 ],
 "metadata": {
  "kernelspec": {
   "display_name": "Python 3 (ipykernel)",
   "language": "python",
   "name": "python3"
  },
  "language_info": {
   "codemirror_mode": {
    "name": "ipython",
    "version": 3
   },
   "file_extension": ".py",
   "mimetype": "text/x-python",
   "name": "python",
   "nbconvert_exporter": "python",
   "pygments_lexer": "ipython3",
   "version": "3.9.6"
  }
 },
 "nbformat": 4,
 "nbformat_minor": 5
}

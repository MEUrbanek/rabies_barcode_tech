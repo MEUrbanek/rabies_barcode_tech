{
 "cells": [
  {
   "cell_type": "markdown",
   "id": "064ee45f-3d69-4d8c-9ca3-6b30ed15c820",
   "metadata": {},
   "source": [
    "# Template switching analysis"
   ]
  },
  {
   "cell_type": "markdown",
   "id": "086d8c78-5cc6-4fe1-8ca5-d6c7f23c69db",
   "metadata": {},
   "source": [
    "Jupyter notebook containing analyses for looking at rates of template switching in viral diversity libraries from Shin & Urbanek. Analyses correspond to !!!!!!"
   ]
  },
  {
   "cell_type": "markdown",
   "id": "4e956fde-0dd7-4970-9908-4ab45e079501",
   "metadata": {},
   "source": [
    "This notebook contains an analysis that examines rates of shared UMIs between unique barcode sequences to identify high template switching events introduced during PCR. For our bit-based barcodes, there's the potential for 20bp+ overlap between the UMI and each bit, between shared bit 1s and between shared bit 2s. In each case, we would expect to see an identical UMI split between multiple barcode sequences. "
   ]
  },
  {
   "cell_type": "markdown",
   "id": "6e17ce8f-084b-4e7b-9d72-348fea7431f8",
   "metadata": {},
   "source": [
    "Input for this notebook requires:\n",
    "1) The flat.txt input file for each barcode diversity library of interest"
   ]
  },
  {
   "cell_type": "markdown",
   "id": "958debda-0530-4659-bec5-66bcce065590",
   "metadata": {},
   "source": [
    "Output for this notebook includes:\n",
    "1. Distribution of number of unique barcodes detecter per UMI"
   ]
  },
  {
   "cell_type": "markdown",
   "id": "45820b36-1495-4e33-b67c-5d909104685d",
   "metadata": {},
   "source": [
    "Module and their versions used when generating figures for the paper can be found in 'requirements.txt', which is stored in our GitHub repository: !!!!!!"
   ]
  },
  {
   "cell_type": "markdown",
   "id": "e4919018-456d-423d-a99a-a0eba0eeb4cb",
   "metadata": {},
   "source": [
    "This code was last amended by Maddie Urbanek on !!!!!"
   ]
  },
  {
   "cell_type": "markdown",
   "id": "2d487c46-9b06-44b9-8543-282f891b0b23",
   "metadata": {},
   "source": [
    "## Notebook set-up"
   ]
  },
  {
   "cell_type": "code",
   "execution_count": 12,
   "id": "f8732bb7-7ea7-4f3e-8bc0-aa446465804e",
   "metadata": {},
   "outputs": [],
   "source": [
    "#Load in modules:\n",
    "import pandas as pd\n",
    "import numpy as np\n",
    "import matplotlib.pyplot as plt\n",
    "import scipy as scipy\n",
    "from itertools import product\n",
    "import seaborn as sns\n",
    "from statsmodels.multivariate.manova import MANOVA\n",
    "from matplotlib.ticker import PercentFormatter"
   ]
  },
  {
   "cell_type": "code",
   "execution_count": 2,
   "id": "a54367ff-5e1f-4961-bd0a-dfed25299ed5",
   "metadata": {},
   "outputs": [],
   "source": [
    "import os\n",
    "os.chdir('/home/maddie_urbanek/Desktop/flats/')"
   ]
  },
  {
   "cell_type": "code",
   "execution_count": 3,
   "id": "0b42b328-4aa4-49f1-9f28-ccb41cf6bd18",
   "metadata": {
    "jupyter": {
     "source_hidden": true
    }
   },
   "outputs": [],
   "source": [
    "#Set working directory to point to barcode diversity libraries\n",
    "import os\n",
    "os.chdir('/Users/maddieurbanek/Desktop/revision_data/resubmission/data/barcode_diversity_libraries/')"
   ]
  },
  {
   "cell_type": "markdown",
   "id": "9e70d003-83af-42c0-8f73-3217f8232929",
   "metadata": {},
   "source": [
    "## Import and process flat datasets"
   ]
  },
  {
   "cell_type": "markdown",
   "id": "02b9e935-e6d2-481c-bf29-a0992eca4480",
   "metadata": {},
   "source": [
    "Because flat files are typically >5GB, build a function to load and condense each flat file into a unique barcode per UMI dataframe in one go:"
   ]
  },
  {
   "cell_type": "code",
   "execution_count": 3,
   "id": "087be802-4c0e-41e6-8f81-e4e895e9e1b0",
   "metadata": {},
   "outputs": [],
   "source": [
    "def barcode_per_umi(flat_path #path to flat.txt file sent to an array (for example, flat_path=['flat_1.txt'])\n",
    "                   ):\n",
    "    flat=pd.read_table(f'./{flat_path}',delimiter='\\t',header=None)\n",
    "    flat.columns=['col1','barcode']\n",
    "    \n",
    "    #Split barcode into correspondent bit sequences and isolate UMI into one column\n",
    "    flat[['bit1','bit2','bit3']]=flat['barcode'].str.split('-', expand=True)\n",
    "    flat[['readid','umi','cbc']]=flat['col1'].str.split('_', expand=True)\n",
    "\n",
    "    #For each UMI, count up total number of unique barcode sequences and send to table\n",
    "    barcode_counts=pd.DataFrame(flat.groupby(['umi'])['barcode'].nunique())\n",
    "\n",
    "    #Print some stats\n",
    "    print('Maximum number of barcodes for a single UMI:')\n",
    "    print(barcode_counts['barcode'].max())\n",
    "    print('Median number of barcodes found per UMI:')\n",
    "    print(barcode_counts['barcode'].median())\n",
    "\n",
    "    return barcode_counts"
   ]
  },
  {
   "cell_type": "markdown",
   "id": "0207171b-7631-48e2-a4e4-1854426adc15",
   "metadata": {},
   "source": [
    "Build unique barcode dataframes for all five bit-based replicates"
   ]
  },
  {
   "cell_type": "code",
   "execution_count": null,
   "id": "c01df569-f959-4949-8f68-e86b381f4614",
   "metadata": {},
   "outputs": [],
   "source": [
    "flat_path='flat_1.txt'\n",
    "rep_1=barcode_per_umi(flat_path)\n",
    "\n",
    "flat_path='flat_2.txt'\n",
    "rep_2=barcode_per_umi(flat_path)\n",
    "\n",
    "flat_path='flat_3.txt'\n",
    "rep_3=barcode_per_umi(flat_path)\n",
    "\n",
    "flat_path='flat_4.txt'\n",
    "rep_4=barcode_per_umi(flat_path)\n",
    "\n",
    "flat_path='flat_5.txt'\n",
    "rep_5=barcode_per_umi(flat_path)"
   ]
  },
  {
   "cell_type": "markdown",
   "id": "cd401e31-0fd0-41d6-90ef-2be2dc02d5af",
   "metadata": {},
   "source": [
    "Process collapsed randomer flat as control for UMI collision"
   ]
  },
  {
   "cell_type": "code",
   "execution_count": null,
   "id": "9d80074b-4626-4c46-8f8f-79c240e8bc91",
   "metadata": {},
   "outputs": [],
   "source": [
    "flat=pd.read_table('collapsed_randomer_flat.txt',delimiter='\\t',header=None)\n",
    "flat.columns=['col1','barcode']\n",
    "flat[['readid','umi','cbc']]=flat['col1'].str.split('_', expand=True)\n",
    "\n",
    "#For each UMI, count up total number of unique barcode sequences and send to table\n",
    "randomer=pd.DataFrame(flat.groupby(['umi'])['barcode'].nunique())\n",
    "\n",
    "#Print some stats\n",
    "print('Maximum number of barcodes for a single UMI:')\n",
    "print(randomer['barcode'].max())\n",
    "print('Median number of barcodes found per UMI:')\n",
    "print(randomer['barcode'].median())"
   ]
  },
  {
   "cell_type": "code",
   "execution_count": 5,
   "id": "1d9ad0de-997c-422f-a46c-800f066d33a7",
   "metadata": {},
   "outputs": [
    {
     "name": "stdout",
     "output_type": "stream",
     "text": [
      "Maximum number of barcodes for a single UMI:\n",
      "24706\n",
      "Median number of barcodes found per UMI:\n",
      "1.0\n"
     ]
    }
   ],
   "source": [
    "flat.columns=['col1','barcode']\n",
    "flat[['readid','umi','cbc']]=flat['col1'].str.split('_', expand=True)\n",
    "\n",
    "#For each UMI, count up total number of unique barcode sequences and send to table\n",
    "randomer=pd.DataFrame(flat.groupby(['umi'])['barcode'].nunique())\n",
    "\n",
    "#Print some stats\n",
    "print('Maximum number of barcodes for a single UMI:')\n",
    "print(randomer['barcode'].max())\n",
    "print('Median number of barcodes found per UMI:')\n",
    "print(randomer['barcode'].median())"
   ]
  },
  {
   "cell_type": "markdown",
   "id": "9325d4e5-a2e9-4f74-bc44-9f98584cd3d3",
   "metadata": {},
   "source": [
    "## Visualization"
   ]
  },
  {
   "cell_type": "markdown",
   "id": "628e7689-6be6-4046-a445-a2ac7e402315",
   "metadata": {},
   "source": [
    "### Plot histogram of unique barcodes per UMI as a function of UMIs per dataset"
   ]
  },
  {
   "cell_type": "code",
   "execution_count": 18,
   "id": "c6a38b24-2502-416f-a3b0-c0aeeeab6ae3",
   "metadata": {},
   "outputs": [
    {
     "data": {
      "image/png": "[encoded data removed]",
      "text/plain": [
       "<Figure size 640x500 with 1 Axes>"
      ]
     },
     "metadata": {},
     "output_type": "display_data"
    }
   ],
   "source": [
    "plt.figure().set_figheight(5)\n",
    "plt.hist(rep_1['barcode'], bins=np.arange(0,rep_1['barcode'].max() + 5,1), color='brown', alpha=0.7, label='rep1', weights=np.ones(len(rep_1['barcode']))/ len(rep_1['barcode']))\n",
    "plt.hist(rep_2['barcode'], bins=np.arange(0,rep_2['barcode'].max() + 5,1), color='burlywood', alpha=0.7, label='rep2', weights=np.ones(len(rep_2['barcode']))/ len(rep_2['barcode']))\n",
    "plt.hist(rep_3['barcode'], bins=np.arange(0,rep_3['barcode'].max() + 5,1), color='olive', alpha=0.7, label='rep3', weights=np.ones(len(rep_3['barcode']))/ len(rep_3['barcode']))\n",
    "plt.hist(rep_4['barcode'], bins=np.arange(0,rep_4['barcode'].max() + 5,1), color='darkcyan', alpha=0.7, label='rep4', weights=np.ones(len(rep_4['barcode']))/ len(rep_4['barcode']))\n",
    "plt.hist(rep_5['barcode'], bins=np.arange(0,rep_5['barcode'].max() + 5,1), color='darkorchid', alpha=0.7, label='rep5', weights=np.ones(len(rep_5['barcode']))/ len(rep_5['barcode']))\n",
    "plt.hist(randomer['barcode'], bins=np.arange(0,randomer['barcode'].max() + 5,1), color='deeppink', alpha=0.7, label='randomer', weights=np.ones(len(randomer['barcode']))/ len(randomer['barcode']))\n",
    "\n",
    "\n",
    "plt.gca().yaxis.set_major_formatter(PercentFormatter(1))\n",
    "plt.xlabel='Barcodes per UMI'\n",
    "plt.xlim([0,5])\n",
    "#plt.yscale('log')\n",
    "plt.legend()\n",
    "plt.savefig('template_switching.pdf', bbox_inches='tight', format='pdf')\n",
    "plt.show()"
   ]
  },
  {
   "cell_type": "markdown",
   "id": "e0369d1c-8d8c-48bc-b1c9-aaacb509d718",
   "metadata": {},
   "source": [
    "Print percentage of UMIs with more than 1 barcode per dataset"
   ]
  },
  {
   "cell_type": "code",
   "execution_count": 24,
   "id": "8829ba14-0105-446e-a596-3af1a80f2478",
   "metadata": {},
   "outputs": [
    {
     "name": "stdout",
     "output_type": "stream",
     "text": [
      "Percentage of UMIs for rep 1 with >1 barcode:\n",
      "0.13108902472990605\n",
      "\n",
      "Percentage of UMIs for rep 2 with >1 barcode:\n",
      "0.202871365038355\n",
      "\n",
      "Percentage of UMIs for rep 3 with >1 barcode:\n",
      "14.049292363243685\n",
      "\n",
      "Percentage of UMIs for rep 4 with >1 barcode:\n",
      "2.776667812973834\n",
      "\n",
      "Percentage of UMIs for rep 5 with >1 barcode:\n",
      "2.3424338663450484\n",
      "\n",
      "Percentage of UMIs for randomer with >1 barcode:\n",
      "11.295705733859645\n",
      "\n"
     ]
    }
   ],
   "source": [
    "print(\"Percentage of UMIs for rep 1 with >1 barcode:\")\n",
    "print(len(rep_1[rep_1.barcode>1])/len(rep_1)*100)\n",
    "print()\n",
    "print(\"Percentage of UMIs for rep 2 with >1 barcode:\")\n",
    "print(len(rep_2[rep_2.barcode>1])/len(rep_2)*100)\n",
    "print()\n",
    "print(\"Percentage of UMIs for rep 3 with >1 barcode:\")\n",
    "print(len(rep_3[rep_3.barcode>1])/len(rep_3)*100)\n",
    "print()\n",
    "print(\"Percentage of UMIs for rep 4 with >1 barcode:\")\n",
    "print(len(rep_4[rep_4.barcode>1])/len(rep_4)*100)\n",
    "print()\n",
    "print(\"Percentage of UMIs for rep 5 with >1 barcode:\")\n",
    "print(len(rep_5[rep_5.barcode>1])/len(rep_5)*100)\n",
    "print()\n",
    "print(\"Percentage of UMIs for randomer with >1 barcode:\")\n",
    "print(len(randomer[randomer.barcode>1])/len(randomer)*100)\n",
    "print()"
   ]
  }
 ],
 "metadata": {
  "kernelspec": {
   "display_name": "Python 3 (ipykernel)",
   "language": "python",
   "name": "python3"
  },
  "language_info": {
   "codemirror_mode": {
    "name": "ipython",
    "version": 3
   },
   "file_extension": ".py",
   "mimetype": "text/x-python",
   "name": "python",
   "nbconvert_exporter": "python",
   "pygments_lexer": "ipython3",
   "version": "3.12.11"
  }
 },
 "nbformat": 4,
 "nbformat_minor": 5
}

{
 "cells": [
  {
   "cell_type": "markdown",
   "id": "064ee45f-3d69-4d8c-9ca3-6b30ed15c820",
   "metadata": {},
   "source": [
    "# Template switching analysis"
   ]
  },
  {
   "cell_type": "markdown",
   "id": "086d8c78-5cc6-4fe1-8ca5-d6c7f23c69db",
   "metadata": {},
   "source": [
    "Jupyter notebook containing analyses for looking at rates of template switching in viral diversity libraries from Shin & Urbanek. Analyses correspond to !!!!!!"
   ]
  },
  {
   "cell_type": "markdown",
   "id": "4e956fde-0dd7-4970-9908-4ab45e079501",
   "metadata": {},
   "source": [
    "This notebook contains an analysis that examines rates of shared UMIs between unique barcode sequences to identify high template switching events introduced during PCR. For our bit-based barcodes, there's the potential for 20bp+ overlap between the UMI and each bit, between shared bit 1s and between shared bit 2s. In each case, we would expect to see an identical UMI split between multiple barcode sequences. "
   ]
  },
  {
   "cell_type": "markdown",
   "id": "6e17ce8f-084b-4e7b-9d72-348fea7431f8",
   "metadata": {},
   "source": [
    "Input for this notebook requires:\n",
    "1) The flat.txt input file for each barcode diversity library of interest"
   ]
  },
  {
   "cell_type": "markdown",
   "id": "958debda-0530-4659-bec5-66bcce065590",
   "metadata": {},
   "source": [
    "Output for this notebook includes:\n",
    "1. Plots of unique barcodes detected per UMI by dataset"
   ]
  },
  {
   "cell_type": "markdown",
   "id": "45820b36-1495-4e33-b67c-5d909104685d",
   "metadata": {},
   "source": [
    "Module and their versions used when generating figures for the paper can be found in 'requirements.txt', which is stored in our GitHub repository: !!!!!!"
   ]
  },
  {
   "cell_type": "markdown",
   "id": "e4919018-456d-423d-a99a-a0eba0eeb4cb",
   "metadata": {},
   "source": [
    "This code was last amended by Maddie Urbanek on !!!!!"
   ]
  },
  {
   "cell_type": "markdown",
   "id": "2d487c46-9b06-44b9-8543-282f891b0b23",
   "metadata": {},
   "source": [
    "## Notebook set-up"
   ]
  },
  {
   "cell_type": "code",
   "execution_count": 1,
   "id": "f8732bb7-7ea7-4f3e-8bc0-aa446465804e",
   "metadata": {},
   "outputs": [],
   "source": [
    "#Load in modules:\n",
    "import pandas as pd\n",
    "import numpy as np\n",
    "import matplotlib.pyplot as plt\n",
    "import scipy as scipy\n",
    "from itertools import product\n",
    "import seaborn as sns\n",
    "from statsmodels.multivariate.manova import MANOVA"
   ]
  },
  {
   "cell_type": "code",
   "execution_count": 2,
   "id": "0b42b328-4aa4-49f1-9f28-ccb41cf6bd18",
   "metadata": {},
   "outputs": [],
   "source": [
    "#Set working directory to point to barcode diversity libraries\n",
    "import os\n",
    "os.chdir('/Users/maddieurbanek/Desktop/revision_data/resubmission/data/barcode_diversity_libraries/')"
   ]
  },
  {
   "cell_type": "markdown",
   "id": "9e70d003-83af-42c0-8f73-3217f8232929",
   "metadata": {},
   "source": [
    "## Import datasets"
   ]
  },
  {
   "cell_type": "code",
   "execution_count": null,
   "id": "a7a1180a-e792-4ad7-939f-bafeb1c07926",
   "metadata": {},
   "outputs": [],
   "source": [
    "#SADB19 libraries\n",
    "rep_1=pd.read_table('./sadb19/rep_1_flat.txt',delimiter='\\t')\n",
    "rep_2=pd.read_table('./sadb19/rep_2_flat.txt',delimiter='\\t')\n",
    "rep_3=pd.read_table('./sadb19/rep_3_flat.txt',delimiter='\\t')"
   ]
  },
  {
   "cell_type": "code",
   "execution_count": null,
   "id": "3c191269-f281-4282-808d-fba321a7b49f",
   "metadata": {},
   "outputs": [],
   "source": [
    "#CVS-N2c libraries\n",
    "rep_4=pd.read_table('./cvs/rep_4_flat.txt',delimiter='\\t')\n",
    "rep_5=pd.read_table('./cvs/rep_5_flat.txt',delimiter='\\t')\n",
    "rep_6=pd.read_table('./cvs/rep_6_flat.txt',delimiter='\\t')"
   ]
  },
  {
   "cell_type": "code",
   "execution_count": null,
   "id": "8f64e862-a09e-46b9-8d70-bede805e09d6",
   "metadata": {},
   "outputs": [],
   "source": [
    "#Randomer\n",
    "randomer=pd.read_table('./cvs/randomer_flat.txt',delimiter=',')"
   ]
  },
  {
   "cell_type": "markdown",
   "id": "9325d4e5-a2e9-4f74-bc44-9f98584cd3d3",
   "metadata": {},
   "source": [
    "## Calculate unique barcodes detected per UMI for each dataset"
   ]
  },
  {
   "cell_type": "markdown",
   "id": "628e7689-6be6-4046-a445-a2ac7e402315",
   "metadata": {},
   "source": [
    "### Make function"
   ]
  },
  {
   "cell_type": "code",
   "execution_count": null,
   "id": "9ddb9cd4-f529-4bf4-9da3-603befaf8a69",
   "metadata": {},
   "outputs": [],
   "source": [
    "def calculate_barcodes_per_umi(dataset #input dataset for formatting\n",
    "               ):\n",
    "\n",
    "    dataset.columns=['id','barcode']\n",
    "    dataset[['read', 'umi', 'cbc']] = dataset['id'].str.split('_', expand=True)\n",
    "    dataset[['bit1', 'bit2', 'bit3']] = dataset['barcode'].str.split('-', expand=True)\n",
    "\n",
    "    barcodes_per_umi = dataset.groupby('umi')['barcode'].nunique().rename_axis('umi').reset_index(name='unique_barcodes')\n",
    "    print(barcodes_per_umi.head())\n",
    "\n",
    "    return barcodes_per_umi"
   ]
  },
  {
   "cell_type": "markdown",
   "id": "6ed09c2e-b032-4e46-9f3d-73aed485b521",
   "metadata": {},
   "source": [
    "### Apply function to replicates"
   ]
  },
  {
   "cell_type": "code",
   "execution_count": null,
   "id": "ab9f0d33-97be-459b-9f0a-98bf5633f914",
   "metadata": {},
   "outputs": [],
   "source": []
  },
  {
   "cell_type": "code",
   "execution_count": null,
   "id": "879a0fce-efe8-4fe7-a969-6131385622f8",
   "metadata": {},
   "outputs": [],
   "source": []
  },
  {
   "cell_type": "code",
   "execution_count": null,
   "id": "e070c740-9371-4c13-b387-50ece00dbcdf",
   "metadata": {},
   "outputs": [],
   "source": []
  },
  {
   "cell_type": "code",
   "execution_count": null,
   "id": "800ef6ca-897a-4daa-b7ff-ce2e2a283605",
   "metadata": {},
   "outputs": [],
   "source": []
  }
 ],
 "metadata": {
  "kernelspec": {
   "display_name": "Python 3 (ipykernel)",
   "language": "python",
   "name": "python3"
  },
  "language_info": {
   "codemirror_mode": {
    "name": "ipython",
    "version": 3
   },
   "file_extension": ".py",
   "mimetype": "text/x-python",
   "name": "python",
   "nbconvert_exporter": "python",
   "pygments_lexer": "ipython3",
   "version": "3.9.6"
  }
 },
 "nbformat": 4,
 "nbformat_minor": 5
}

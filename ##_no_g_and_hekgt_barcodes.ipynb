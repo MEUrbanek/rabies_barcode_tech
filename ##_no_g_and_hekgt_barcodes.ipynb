{
 "cells": [
  {
   "cell_type": "markdown",
   "id": "cfb3e1f7-6d8c-444d-87a0-7274185b6242",
   "metadata": {},
   "source": [
    "# No G and Patch-seq HEK-GT Analysis"
   ]
  },
  {
   "cell_type": "markdown",
   "id": "3111de49-fdd4-402f-aabb-488d3d09fcff",
   "metadata": {},
   "source": [
    "Jupyter notebook containing analyses for looking at number of rabies barcodes per cell and how that translates to collision in slice culture for Shin & Urbanek. Analyses correspond to !!!!!!"
   ]
  },
  {
   "cell_type": "code",
   "execution_count": null,
   "id": "26e6b127-0067-46d9-9660-75e559ec57c1",
   "metadata": {},
   "outputs": [],
   "source": [
    "The notebook contains analysis for quantifying..."
   ]
  },
  {
   "cell_type": "markdown",
   "id": "57720433-3be5-4d84-949e-ef8580b00d2b",
   "metadata": {},
   "source": [
    "Input for this notebook requires:\n",
    "1) Viral diversity libraries, which at a minimum, must contain a column with the unique barcode sequence ('barcode') and the number of UMIs counted per barcode."
   ]
  },
  {
   "cell_type": "markdown",
   "id": "d4d1949e-a887-4c00-a560-f06bf9c58ef8",
   "metadata": {},
   "source": [
    "Output for this notebook includes:\n",
    "1) Plots for each of analyses described above"
   ]
  },
  {
   "cell_type": "code",
   "execution_count": null,
   "id": "f058686c-740a-4be8-a2e4-05e7b4962757",
   "metadata": {},
   "outputs": [],
   "source": [
    "Module and their versions used when generating figures for the paper can be found in 'requirements.txt', which is stored in our GitHub repository: !!!!!!"
   ]
  },
  {
   "cell_type": "code",
   "execution_count": null,
   "id": "9185da17-f807-4b6c-806a-f0991a60be7a",
   "metadata": {},
   "outputs": [],
   "source": [
    "This code was last amended by Maddie Urbanek on !!!!!"
   ]
  },
  {
   "cell_type": "markdown",
   "id": "27321ddf-fa9f-459f-81c1-74060ecef76a",
   "metadata": {},
   "source": [
    "## Notebook set-up"
   ]
  },
  {
   "cell_type": "code",
   "execution_count": 1,
   "id": "68dc9318-3c6d-4c8d-9023-042fc3c9d298",
   "metadata": {},
   "outputs": [],
   "source": [
    "#Load in modules:\n",
    "import pandas as pd\n",
    "import numpy as np\n",
    "import matplotlib.pyplot as plt\n",
    "import scipy as scipy\n",
    "from itertools import product\n",
    "import seaborn as sns\n",
    "from statsmodels.multivariate.manova import MANOVA"
   ]
  },
  {
   "cell_type": "code",
   "execution_count": 4,
   "id": "2480b455-a731-4b6c-93e3-86b218f850be",
   "metadata": {},
   "outputs": [],
   "source": [
    "#Set working directory to point to barcode diversity libraries\n",
    "import os\n",
    "os.chdir('/Users/maddieurbanek/Desktop/revision_data/resubmission/data/')"
   ]
  },
  {
   "cell_type": "markdown",
   "id": "50f49091-41a5-460e-970e-81b9dcc68a11",
   "metadata": {},
   "source": [
    "## Import datasets"
   ]
  },
  {
   "cell_type": "markdown",
   "id": "16d905fd-171b-4af2-8c6e-2c284da8abc8",
   "metadata": {},
   "source": [
    "No G slices"
   ]
  },
  {
   "cell_type": "code",
   "execution_count": 31,
   "id": "f581d86c-6295-405d-8af0-af6b989bcfe1",
   "metadata": {},
   "outputs": [],
   "source": [
    "#Import no G barcodes\n",
    "bc_1=pd.read_table('./fastqs/slice_experiments/no_g/no_g_1/bc/completecounts.tsv',delimiter='\\t')\n",
    "bc_2=pd.read_table('./fastqs/slice_experiments/no_g/no_g_2/bc/completecounts.tsv',delimiter='\\t')"
   ]
  },
  {
   "cell_type": "code",
   "execution_count": 7,
   "id": "695091af-b10b-4caa-871d-ac0ff38ebd8d",
   "metadata": {},
   "outputs": [],
   "source": [
    "#Import no G real cells\n",
    "nog_1=pd.read_table('./transcriptome/cellbarcode_lists/nog1.csv',delimiter=',')\n",
    "nog_2=pd.read_table('./transcriptome/cellbarcode_lists/nog2.csv',delimiter=',')"
   ]
  },
  {
   "cell_type": "markdown",
   "id": "ce1b88f2-fbf0-4ffa-8191-e5246b4df3bb",
   "metadata": {},
   "source": [
    "HEK-GT Patch-seq samples"
   ]
  },
  {
   "cell_type": "code",
   "execution_count": 55,
   "id": "1e6d08f5-6c85-41ce-949f-0f83ea159b1f",
   "metadata": {},
   "outputs": [],
   "source": [
    "#Import barcode counts matrix from Patch-seqed HEK cells\n",
    "hek_1=pd.read_table('./fastqs/hekgt/hek_1/completecounts.tsv',delimiter='\\t')\n",
    "hek_2=pd.read_table('./fastqs/hekgt/hek_2/completecounts.tsv',delimiter='\\t')\n",
    "hek_3=pd.read_table('./fastqs/hekgt/hek_3/completecounts.tsv',delimiter='\\t')\n",
    "hek_4=pd.read_table('./fastqs/hekgt/hek_4/completecounts.tsv',delimiter='\\t')\n",
    "hek_5=pd.read_table('./fastqs/hekgt/hek_5/completecounts.tsv',delimiter='\\t')\n",
    "hek_6=pd.read_table('./fastqs/hekgt/hek_6/completecounts.tsv',delimiter='\\t')\n",
    "hek_7=pd.read_table('./fastqs/hekgt/hek_7/completecounts.tsv',delimiter='\\t')\n",
    "hek_8=pd.read_table('./fastqs/hekgt/hek_8/completecounts.tsv',delimiter='\\t')\n",
    "hek_9=pd.read_table('./fastqs/hekgt/hek_9/completecounts.tsv',delimiter='\\t')\n",
    "hek_10=pd.read_table('./fastqs/hekgt/hek_10/completecounts.tsv',delimiter='\\t')\n",
    "hek_11=pd.read_table('./fastqs/hekgt/hek_11/completecounts.tsv',delimiter='\\t')\n",
    "hek_12=pd.read_table('./fastqs/hekgt/hek_12/completecounts.tsv',delimiter='\\t')\n",
    "hek_13=pd.read_table('./fastqs/hekgt/hek_13/completecounts.tsv',delimiter='\\t')\n",
    "hek_14=pd.read_table('./fastqs/hekgt/hek_14/completecounts.tsv',delimiter='\\t')\n",
    "hek_15=pd.read_table('./fastqs/hekgt/hek_15/completecounts.tsv',delimiter='\\t')\n",
    "hek_16=pd.read_table('./fastqs/hekgt/hek_16/completecounts.tsv',delimiter='\\t')"
   ]
  },
  {
   "cell_type": "markdown",
   "id": "a81d638a-0028-4572-8074-b517e0a746fa",
   "metadata": {},
   "source": [
    "Barcode collision simulations"
   ]
  },
  {
   "cell_type": "code",
   "execution_count": 19,
   "id": "7404bb5d-ceaa-43da-b21e-51ea23399ef2",
   "metadata": {},
   "outputs": [],
   "source": [
    "collision=pd.read_table('./barcode_diversity_libraries/intermediate_files/barcode_collision/barcode_collision.csv',delimiter=',')"
   ]
  },
  {
   "cell_type": "markdown",
   "id": "02d45419-9ce3-49ef-a8a2-edea740fec7a",
   "metadata": {},
   "source": [
    "## Compare no G collision to barcode collision simulations"
   ]
  },
  {
   "cell_type": "markdown",
   "id": "1fda2ecb-fb4f-4a2a-a87c-e6ab15e55061",
   "metadata": {},
   "source": [
    "Subset no G barcode matrix down to real cells"
   ]
  },
  {
   "cell_type": "code",
   "execution_count": null,
   "id": "ceb08f18-d88c-4be9-b367-b5e9f5ddcdfe",
   "metadata": {},
   "outputs": [],
   "source": [
    "percentcells = int_list / sampling * 100\n",
    "int_list = pd.concat([int_list, percentcells], axis=1, ignore_index=True)\n",
    "int_list.columns=['collisioncells','percentcells']"
   ]
  },
  {
   "cell_type": "code",
   "execution_count": 32,
   "id": "b1a8d903-ce0f-4100-ba9d-505dc957f438",
   "metadata": {},
   "outputs": [
    {
     "name": "stdout",
     "output_type": "stream",
     "text": [
      "Number of real cells in dataset 1:\n",
      "625\n",
      "\n",
      "Number of real cells in dataset 2:\n",
      "2929\n"
     ]
    }
   ],
   "source": [
    "bc_1['CBC'] = bc_1['CBC'].str.replace(\"'\", \"\")\n",
    "bc_1['CBC'] = bc_1['CBC'].str.replace('b', 'nog1_')\n",
    "\n",
    "bc_2['CBC'] = bc_2['CBC'].str.replace(\"'\", \"\")\n",
    "bc_2['CBC'] = bc_2['CBC'].str.replace('b', 'nog2_')\n",
    "\n",
    "real_bc_1 = bc_1.loc[bc_1['CBC'].isin(nog_1['x'])]\n",
    "real_bc_2 = bc_2.loc[bc_2['CBC'].isin(nog_2['x'])]\n",
    "\n",
    "print(\"Number of real cells in dataset 1:\")\n",
    "print(real_bc_1['CBC'].nunique())\n",
    "\n",
    "print()\n",
    "print(\"Number of real cells in dataset 2:\")\n",
    "print(real_bc_2['CBC'].nunique())   "
   ]
  },
  {
   "cell_type": "markdown",
   "id": "27615e7c-caa0-494e-8c5a-9e15e0a7cb71",
   "metadata": {},
   "source": [
    "Calculate barcode collision observed in cells with UMI thresholding like a normal experiment"
   ]
  },
  {
   "cell_type": "code",
   "execution_count": 42,
   "id": "c8c76bc7-0bfd-47ca-84f6-8b68ba68ef14",
   "metadata": {},
   "outputs": [
    {
     "name": "stdout",
     "output_type": "stream",
     "text": [
      "Dataset 1:\n",
      "Total number of infection events:\n",
      "2183\n",
      "Unique barcodes in dataset:\n",
      "1137\n",
      "Calculated % barcodes colliding:\n",
      "47.915712322491984\n",
      "\n",
      "Dataset 2:\n",
      "Total number of infection events:\n",
      "9835\n",
      "Unique barcodes in dataset:\n",
      "7100\n",
      "Calculated % barcodes colliding:\n",
      "27.80884595831215\n"
     ]
    },
    {
     "name": "stderr",
     "output_type": "stream",
     "text": [
      "/var/folders/5l/rz29hct17d916rns_lvv75dw0000gn/T/ipykernel_18369/2817434057.py:2: SettingWithCopyWarning: \n",
      "A value is trying to be set on a copy of a slice from a DataFrame\n",
      "\n",
      "See the caveats in the documentation: https://pandas.pydata.org/pandas-docs/stable/user_guide/indexing.html#returning-a-view-versus-a-copy\n",
      "  real_bc_1.drop(real_bc_1[real_bc_1['UMI_Count'] < 2].index, inplace=True)\n",
      "/var/folders/5l/rz29hct17d916rns_lvv75dw0000gn/T/ipykernel_18369/2817434057.py:13: SettingWithCopyWarning: \n",
      "A value is trying to be set on a copy of a slice from a DataFrame\n",
      "\n",
      "See the caveats in the documentation: https://pandas.pydata.org/pandas-docs/stable/user_guide/indexing.html#returning-a-view-versus-a-copy\n",
      "  real_bc_2.drop(real_bc_2[real_bc_2['UMI_Count'] < 2].index, inplace=True)\n"
     ]
    }
   ],
   "source": [
    "#For dataset 1:\n",
    "real_bc_1.drop(real_bc_1[real_bc_1['UMI_Count'] < 2].index, inplace=True)\n",
    "print(\"Dataset 1:\")\n",
    "print(\"Total number of infection events:\")\n",
    "print(len(real_bc_1))\n",
    "print(\"Unique barcodes in dataset:\")\n",
    "print(real_bc_1['barcode'].nunique())\n",
    "print(\"Calculated % barcodes colliding:\")\n",
    "print((real_bc_1.duplicated(subset=['barcode'],keep='first').sum())/len(real_bc_1)*100)\n",
    "print()\n",
    "\n",
    "#For dataset 2:\n",
    "real_bc_2.drop(real_bc_2[real_bc_2['UMI_Count'] < 2].index, inplace=True)\n",
    "print(\"Dataset 2:\")\n",
    "print(\"Total number of infection events:\")\n",
    "print(len(real_bc_2))\n",
    "print(\"Unique barcodes in dataset:\")\n",
    "print(real_bc_2['barcode'].nunique())\n",
    "print(\"Calculated % barcodes colliding:\")\n",
    "print((real_bc_2.duplicated(subset=['barcode'],keep='first').sum())/len(real_bc_2)*100)\n"
   ]
  },
  {
   "cell_type": "markdown",
   "id": "b8db046d-b947-4dee-8f3d-0cbe9596c37f",
   "metadata": {},
   "source": [
    "Visualization"
   ]
  },
  {
   "cell_type": "code",
   "execution_count": 51,
   "id": "f37b8d9d-09ea-4b2a-898f-7018fb40a6f8",
   "metadata": {},
   "outputs": [
    {
     "data": {
      "image/png": "[encoded data removed]",
      "text/plain": [
       "<Figure size 640x480 with 1 Axes>"
      ]
     },
     "metadata": {},
     "output_type": "display_data"
    }
   ],
   "source": [
    "#Plot barcode collision\n",
    "sns.lineplot(data=collision, x=\"magnitude_sampled\", y=\"rep_1\", errorbar='sd', color='#d81b60',linewidth = 1.5)\n",
    "sns.lineplot(data=collision, x=\"magnitude_sampled\", y=\"rep_2\", errorbar='sd', color='#d81b60',linewidth = 1.5,alpha=0.6)\n",
    "sns.lineplot(data=collision, x=\"magnitude_sampled\", y=\"rep_3\", errorbar='sd', color='#d81b60',linewidth = 1.5,alpha=0.4)\n",
    "sns.lineplot(data=collision, x=\"magnitude_sampled\", y=\"rep_4\", errorbar='sd', color='#1E88E5',linewidth = 1.5)\n",
    "sns.lineplot(data=collision, x=\"magnitude_sampled\", y=\"rep_5\", errorbar='sd', color='#1E88E5',linewidth = 1.5,alpha=0.6)\n",
    "sns.lineplot(data=collision, x=\"magnitude_sampled\", y=\"randomer\", errorbar='sd', color='#265B1A',linewidth = 1.5)\n",
    "sns.lineplot(data=collision, x=\"magnitude_sampled\", y=\"zhang\", errorbar='sd', color='black',linewidth = 1.5)\n",
    "sns.lineplot(data=collision, x=\"magnitude_sampled\", y=\"saunders\", errorbar='sd', color='black',linewidth = 1.5,alpha=0.6)\n",
    "sns.lineplot(data=collision, x=\"magnitude_sampled\", y=\"clark\", errorbar='sd', color='black',linewidth = 1.5,alpha=0.4)\n",
    "\n",
    "plt.plot(np.log10(2183), (47.915712322491984),marker='.',color='#1E88E5',alpha=0.4,ms=20)\n",
    "plt.plot(np.log10(9835), (27.80884595831215),marker='.',color='#1E88E5',ms=20)\n",
    "\n",
    "plt.savefig(\"../figs/sfig_1/no_g.pdf\")\n",
    "\n",
    "plt.show()"
   ]
  },
  {
   "cell_type": "markdown",
   "id": "f50c67e9-c0f1-4e5c-a2b9-13c2125155f3",
   "metadata": {},
   "source": [
    "### Look at total number of unique barcodes and their count distributions in HEK-GT cells"
   ]
  },
  {
   "cell_type": "markdown",
   "id": "3875b33c-8f4d-4e01-a36e-eb67626a812c",
   "metadata": {},
   "source": [
    "Make function for plotting %UMI and rank for barcodes in HEK cells"
   ]
  },
  {
   "cell_type": "code",
   "execution_count": 69,
   "id": "de352cf3-1e54-47a6-a366-fbfcadd81328",
   "metadata": {},
   "outputs": [],
   "source": [
    "def percent_umi(dataset #the properly formatted dataframe above including barcodes and UMI counts\n",
    "               ):\n",
    "    \n",
    "    dataset['%UMI']=(dataset['UMI_Count']/(dataset['UMI_Count'].sum()))*100\n",
    "    dataset_s=dataset.sort_values(by='%UMI',ascending=False)\n",
    "    dataset=dataset_s.reset_index()\n",
    "    dataset['rank']=dataset.index\n",
    "    dataset['rank']=dataset['rank']+1\n",
    "\n",
    "    return dataset"
   ]
  },
  {
   "cell_type": "code",
   "execution_count": 70,
   "id": "17b1f592-163e-4175-bff2-08f9e48eeb24",
   "metadata": {},
   "outputs": [],
   "source": [
    "hek_1=percent_umi(hek_1)\n",
    "hek_2=percent_umi(hek_2)\n",
    "hek_3=percent_umi(hek_3)\n",
    "hek_4=percent_umi(hek_4)\n",
    "hek_5=percent_umi(hek_5)\n",
    "hek_6=percent_umi(hek_6)\n",
    "hek_7=percent_umi(hek_7)\n",
    "hek_8=percent_umi(hek_8)\n",
    "hek_9=percent_umi(hek_9)\n",
    "hek_10=percent_umi(hek_10)\n",
    "hek_11=percent_umi(hek_11)\n",
    "hek_12=percent_umi(hek_12)\n",
    "hek_13=percent_umi(hek_13)\n",
    "hek_14=percent_umi(hek_14)\n",
    "hek_15=percent_umi(hek_15)\n",
    "hek_16=percent_umi(hek_16)"
   ]
  },
  {
   "cell_type": "code",
   "execution_count": 58,
   "id": "7a6440f2-4502-47fd-9fa6-75766d75f6a7",
   "metadata": {},
   "outputs": [
    {
     "name": "stdout",
     "output_type": "stream",
     "text": [
      "#393b79\n",
      "#5254a3\n",
      "#6b6ecf\n",
      "#637939\n",
      "#8ca252\n",
      "#b5cf6b\n",
      "#8c6d31\n",
      "#bd9e39\n",
      "#e7ba52\n",
      "#843c39\n",
      "#ad494a\n",
      "#d6616b\n",
      "#7b4173\n",
      "#a55194\n",
      "#ce6dbd\n",
      "#de9ed6\n"
     ]
    },
    {
     "name": "stderr",
     "output_type": "stream",
     "text": [
      "/var/folders/5l/rz29hct17d916rns_lvv75dw0000gn/T/ipykernel_18369/203012320.py:4: MatplotlibDeprecationWarning: The get_cmap function was deprecated in Matplotlib 3.7 and will be removed two minor releases later. Use ``matplotlib.colormaps[name]`` or ``matplotlib.colormaps.get_cmap(obj)`` instead.\n",
      "  cmap = cm.get_cmap('tab20b', 16)    # PiYG\n"
     ]
    }
   ],
   "source": [
    "#Print hex codes for color scheme\n",
    "from pylab import *\n",
    "\n",
    "cmap = cm.get_cmap('tab20b', 16)    # PiYG\n",
    "\n",
    "for i in range(cmap.N):\n",
    "    rgba = cmap(i)\n",
    "    # rgb2hex accepts rgb or rgba\n",
    "    print(matplotlib.colors.rgb2hex(rgba))"
   ]
  },
  {
   "cell_type": "code",
   "execution_count": 68,
   "id": "06fd129d-3832-4ca9-b2f0-516ace7a8355",
   "metadata": {},
   "outputs": [
    {
     "data": {
      "text/html": [
       "<div>\n",
       "<style scoped>\n",
       "    .dataframe tbody tr th:only-of-type {\n",
       "        vertical-align: middle;\n",
       "    }\n",
       "\n",
       "    .dataframe tbody tr th {\n",
       "        vertical-align: top;\n",
       "    }\n",
       "\n",
       "    .dataframe thead th {\n",
       "        text-align: right;\n",
       "    }\n",
       "</style>\n",
       "<table border=\"1\" class=\"dataframe\">\n",
       "  <thead>\n",
       "    <tr style=\"text-align: right;\">\n",
       "      <th></th>\n",
       "      <th>index</th>\n",
       "      <th>CBC</th>\n",
       "      <th>barcode</th>\n",
       "      <th>UMI_Count</th>\n",
       "      <th>%UMI</th>\n",
       "      <th>rank</th>\n",
       "    </tr>\n",
       "  </thead>\n",
       "  <tbody>\n",
       "    <tr>\n",
       "      <th>0</th>\n",
       "      <td>262</td>\n",
       "      <td>b'AAAAAAAAAAAA'</td>\n",
       "      <td>AATTCGTATCAACTGCGACCG-GATCCAATTTCCCTGCAGGG-CTA...</td>\n",
       "      <td>63765</td>\n",
       "      <td>59.979682</td>\n",
       "      <td>0</td>\n",
       "    </tr>\n",
       "    <tr>\n",
       "      <th>1</th>\n",
       "      <td>54</td>\n",
       "      <td>b'AAAAAAAAAAAA'</td>\n",
       "      <td>AATTCAGTCCGGCTCAGCGGG-GATCTCGACAACACGTGGTG-CTA...</td>\n",
       "      <td>20889</td>\n",
       "      <td>19.648954</td>\n",
       "      <td>1</td>\n",
       "    </tr>\n",
       "    <tr>\n",
       "      <th>2</th>\n",
       "      <td>187</td>\n",
       "      <td>b'AAAAAAAAAAAA'</td>\n",
       "      <td>AATTCCTGCGTCCCCGACCAG-GATCTGGCCCGCATGTATGG-CTA...</td>\n",
       "      <td>9629</td>\n",
       "      <td>9.057388</td>\n",
       "      <td>2</td>\n",
       "    </tr>\n",
       "    <tr>\n",
       "      <th>3</th>\n",
       "      <td>60</td>\n",
       "      <td>b'AAAAAAAAAAAA'</td>\n",
       "      <td>AATTCAGTTACCGGCAGTACG-GATCGGCGTCTGTACTTGAG-CTA...</td>\n",
       "      <td>6503</td>\n",
       "      <td>6.116959</td>\n",
       "      <td>3</td>\n",
       "    </tr>\n",
       "    <tr>\n",
       "      <th>4</th>\n",
       "      <td>137</td>\n",
       "      <td>b'AAAAAAAAAAAA'</td>\n",
       "      <td>AATTCCGCAGCCTTTAGATCG-GATCCCAGTACGACCCCAAG-CTA...</td>\n",
       "      <td>3444</td>\n",
       "      <td>3.239552</td>\n",
       "      <td>4</td>\n",
       "    </tr>\n",
       "    <tr>\n",
       "      <th>...</th>\n",
       "      <td>...</td>\n",
       "      <td>...</td>\n",
       "      <td>...</td>\n",
       "      <td>...</td>\n",
       "      <td>...</td>\n",
       "      <td>...</td>\n",
       "    </tr>\n",
       "    <tr>\n",
       "      <th>363</th>\n",
       "      <td>102</td>\n",
       "      <td>b'AAAAAAAAAAAA'</td>\n",
       "      <td>AATTCCCATGAAGGGTCAAGG-GATCAATGGTGTGGGTTGGG-CTA...</td>\n",
       "      <td>1</td>\n",
       "      <td>0.000941</td>\n",
       "      <td>363</td>\n",
       "    </tr>\n",
       "    <tr>\n",
       "      <th>364</th>\n",
       "      <td>101</td>\n",
       "      <td>b'AAAAAAAAAAAA'</td>\n",
       "      <td>AATTCCCAGCGCTGAGACCTG-GATCGGAACAGTTAGGGGTG-CTA...</td>\n",
       "      <td>1</td>\n",
       "      <td>0.000941</td>\n",
       "      <td>364</td>\n",
       "    </tr>\n",
       "    <tr>\n",
       "      <th>365</th>\n",
       "      <td>247</td>\n",
       "      <td>b'AAAAAAAAAAAA'</td>\n",
       "      <td>AATTCGGGAGCGTGCATACAG-GATCTAAAGGATGCACGCGG-CTA...</td>\n",
       "      <td>1</td>\n",
       "      <td>0.000941</td>\n",
       "      <td>365</td>\n",
       "    </tr>\n",
       "    <tr>\n",
       "      <th>366</th>\n",
       "      <td>248</td>\n",
       "      <td>b'AAAAAAAAAAAA'</td>\n",
       "      <td>AATTCGGGATGGTCGGCTTGG-GATCGACAGCGCCGGCTTAG-CTA...</td>\n",
       "      <td>1</td>\n",
       "      <td>0.000941</td>\n",
       "      <td>366</td>\n",
       "    </tr>\n",
       "    <tr>\n",
       "      <th>367</th>\n",
       "      <td>367</td>\n",
       "      <td>b'AAAAAAAAAAAA'</td>\n",
       "      <td>AATTCTTTTGGTGCGAGCCTG-GATCGGTGGCAGAATAGACG-CTA...</td>\n",
       "      <td>1</td>\n",
       "      <td>0.000941</td>\n",
       "      <td>367</td>\n",
       "    </tr>\n",
       "  </tbody>\n",
       "</table>\n",
       "<p>368 rows × 6 columns</p>\n",
       "</div>"
      ],
      "text/plain": [
       "     index              CBC  \\\n",
       "0      262  b'AAAAAAAAAAAA'   \n",
       "1       54  b'AAAAAAAAAAAA'   \n",
       "2      187  b'AAAAAAAAAAAA'   \n",
       "3       60  b'AAAAAAAAAAAA'   \n",
       "4      137  b'AAAAAAAAAAAA'   \n",
       "..     ...              ...   \n",
       "363    102  b'AAAAAAAAAAAA'   \n",
       "364    101  b'AAAAAAAAAAAA'   \n",
       "365    247  b'AAAAAAAAAAAA'   \n",
       "366    248  b'AAAAAAAAAAAA'   \n",
       "367    367  b'AAAAAAAAAAAA'   \n",
       "\n",
       "                                               barcode  UMI_Count       %UMI  \\\n",
       "0    AATTCGTATCAACTGCGACCG-GATCCAATTTCCCTGCAGGG-CTA...      63765  59.979682   \n",
       "1    AATTCAGTCCGGCTCAGCGGG-GATCTCGACAACACGTGGTG-CTA...      20889  19.648954   \n",
       "2    AATTCCTGCGTCCCCGACCAG-GATCTGGCCCGCATGTATGG-CTA...       9629   9.057388   \n",
       "3    AATTCAGTTACCGGCAGTACG-GATCGGCGTCTGTACTTGAG-CTA...       6503   6.116959   \n",
       "4    AATTCCGCAGCCTTTAGATCG-GATCCCAGTACGACCCCAAG-CTA...       3444   3.239552   \n",
       "..                                                 ...        ...        ...   \n",
       "363  AATTCCCATGAAGGGTCAAGG-GATCAATGGTGTGGGTTGGG-CTA...          1   0.000941   \n",
       "364  AATTCCCAGCGCTGAGACCTG-GATCGGAACAGTTAGGGGTG-CTA...          1   0.000941   \n",
       "365  AATTCGGGAGCGTGCATACAG-GATCTAAAGGATGCACGCGG-CTA...          1   0.000941   \n",
       "366  AATTCGGGATGGTCGGCTTGG-GATCGACAGCGCCGGCTTAG-CTA...          1   0.000941   \n",
       "367  AATTCTTTTGGTGCGAGCCTG-GATCGGTGGCAGAATAGACG-CTA...          1   0.000941   \n",
       "\n",
       "     rank  \n",
       "0       0  \n",
       "1       1  \n",
       "2       2  \n",
       "3       3  \n",
       "4       4  \n",
       "..    ...  \n",
       "363   363  \n",
       "364   364  \n",
       "365   365  \n",
       "366   366  \n",
       "367   367  \n",
       "\n",
       "[368 rows x 6 columns]"
      ]
     },
     "execution_count": 68,
     "metadata": {},
     "output_type": "execute_result"
    }
   ],
   "source": [
    "hek_2"
   ]
  },
  {
   "cell_type": "code",
   "execution_count": 71,
   "id": "5575485f-75bf-4604-ad86-b721a03fab28",
   "metadata": {},
   "outputs": [
    {
     "data": {
      "image/png": "[encoded data removed]",
      "text/plain": [
       "<Figure size 640x480 with 1 Axes>"
      ]
     },
     "metadata": {},
     "output_type": "display_data"
    }
   ],
   "source": [
    "plt.scatter(hek_1['rank'],hek_1['%UMI'],linewidth=1.5,color='#393b79')\n",
    "plt.scatter(hek_2['rank'],hek_2['%UMI'],linewidth=1.5,color='#5254a3')\n",
    "plt.scatter(hek_3['rank'],hek_3['%UMI'],linewidth=1.5,color='#6b6ecf')\n",
    "plt.scatter(hek_4['rank'],hek_4['%UMI'],linewidth=1.5,color='#637939')\n",
    "plt.scatter(hek_5['rank'],hek_5['%UMI'],linewidth=1.5,color='#8ca252')\n",
    "plt.scatter(hek_6['rank'],hek_6['%UMI'],linewidth=1.5,color='#b5cf6b')\n",
    "plt.scatter(hek_7['rank'],hek_7['%UMI'],linewidth=1.5,color='#8c6d31')\n",
    "plt.scatter(hek_8['rank'],hek_8['%UMI'],linewidth=1.5,color='#bd9e39')\n",
    "plt.scatter(hek_9['rank'],hek_9['%UMI'],linewidth=1.5,color='#e7ba52')\n",
    "plt.scatter(hek_10['rank'],hek_10['%UMI'],linewidth=1.5,color='#843c39')\n",
    "plt.scatter(hek_11['rank'],hek_11['%UMI'],linewidth=1.5,color='#ad494a')\n",
    "plt.scatter(hek_12['rank'],hek_12['%UMI'],linewidth=1.5,color='#d6616b')\n",
    "plt.scatter(hek_13['rank'],hek_13['%UMI'],linewidth=1.5,color='#7b4173')\n",
    "plt.scatter(hek_14['rank'],hek_14['%UMI'],linewidth=1.5,color='#a55194')\n",
    "plt.scatter(hek_15['rank'],hek_15['%UMI'],linewidth=1.5,color='#ce6dbd')\n",
    "plt.scatter(hek_16['rank'],hek_16['%UMI'],linewidth=1.5,color='#de9ed6')\n",
    "\n",
    "#plt.axis([0, 25, 0, 1.1])\n",
    "plt.xlabel('Barcode Rank')\n",
    "plt.ylabel('% UMIs in HEK-TVA Cell')\n",
    "plt.xscale('log')\n",
    "#plt.yscale('log')\n",
    "plt.title('Relative UMI frequency in HEK-TVA Cells')\n",
    "\n",
    "plt.savefig('../figs/sfig_1/hek_no_zoom.pdf')\n",
    "plt.show()"
   ]
  }
 ],
 "metadata": {
  "kernelspec": {
   "display_name": "Python 3 (ipykernel)",
   "language": "python",
   "name": "python3"
  },
  "language_info": {
   "codemirror_mode": {
    "name": "ipython",
    "version": 3
   },
   "file_extension": ".py",
   "mimetype": "text/x-python",
   "name": "python",
   "nbconvert_exporter": "python",
   "pygments_lexer": "ipython3",
   "version": "3.9.6"
  }
 },
 "nbformat": 4,
 "nbformat_minor": 5
}

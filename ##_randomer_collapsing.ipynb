{
 "cells": [
  {
   "cell_type": "markdown",
   "id": "a5ff020c-4a75-45bb-bfc0-4966f98fde54",
   "metadata": {},
   "source": [
    "# Randomer processing using MapSEQ pipeline"
   ]
  },
  {
   "cell_type": "markdown",
   "id": "5ebf5b08-2167-41d9-94c8-63916ea2e9bb",
   "metadata": {},
   "source": [
    "Jupyter notebook containing analyses for collapsing randomer barcodes for randomer library from Shin & Urbanek. Analyses correspond to !!!!!!"
   ]
  },
  {
   "cell_type": "markdown",
   "id": "70186993-6111-4e53-b3cc-331114ffcb9f",
   "metadata": {},
   "source": [
    "The notebook runs the Zador lab's MapSEQ collapsing pipeline to collapse any randomer barcodes that are ≤3 base pairs apart. This serves to reduce possible barcode inflation introduced by PCR and sequencing errors."
   ]
  },
  {
   "cell_type": "markdown",
   "id": "13c0101b-113f-4197-a5a5-8bf39af32fb1",
   "metadata": {},
   "source": [
    "Input for this notebook requires:\n",
    "1) A barcode counts matrix with, at a minimum, a barcode column containing each identified barcode sequence and a ???"
   ]
  },
  {
   "cell_type": "markdown",
   "id": "23acf6fc-fe90-4cd9-8a7b-9f370782a322",
   "metadata": {},
   "source": [
    "Output for this notebook includes:\n",
    "1) A collapsed counts.tsv table with revised UMIs per collapsed randomer barcode sequences"
   ]
  },
  {
   "cell_type": "markdown",
   "id": "cb3f907d-156f-42dc-b5f3-2dd7985bc21a",
   "metadata": {},
   "source": [
    "Module and their versions used when generating figures for the paper can be found in 'requirements.txt', which is stored in our GitHub repository: !!!!!!"
   ]
  },
  {
   "cell_type": "code",
   "execution_count": null,
   "id": "cb6a021e-5b8f-47bb-aaf5-3d2b0f2e15e0",
   "metadata": {},
   "outputs": [],
   "source": [
    "This code was last amended by Maddie Urbanek on !!!!!"
   ]
  },
  {
   "cell_type": "markdown",
   "id": "4ecf0761-c5f4-401d-b0fd-e46a40b9811c",
   "metadata": {},
   "source": [
    "## Notebook set-up"
   ]
  },
  {
   "cell_type": "code",
   "execution_count": 1,
   "id": "912b91ba-76b9-464f-b906-15209330e44a",
   "metadata": {},
   "outputs": [],
   "source": [
    "#Load in modules:\n",
    "import pandas as pd\n",
    "import numpy as np\n",
    "import matplotlib.pyplot as plt\n",
    "import scipy as scipy\n",
    "from itertools import product\n",
    "import seaborn as sns\n",
    "from statsmodels.multivariate.manova import MANOVA"
   ]
  },
  {
   "cell_type": "code",
   "execution_count": 2,
   "id": "1087c059-9b87-44d9-86b3-4ade1df4093a",
   "metadata": {},
   "outputs": [],
   "source": [
    "#Set working directory to point to barcode diversity libraries\n",
    "import os\n",
    "os.chdir('/Users/maddieurbanek/Desktop/revision_data/resubmission/data/fastqs/randomer/')"
   ]
  },
  {
   "cell_type": "markdown",
   "id": "5fd4c6d7-247e-4732-af4b-e8f3d50ccb58",
   "metadata": {},
   "source": [
    "## Import and reformat data"
   ]
  },
  {
   "cell_type": "markdown",
   "id": "90015448-300c-4f42-910e-940d2518f703",
   "metadata": {},
   "source": [
    "Randomer data should be the completecounts.tsv file that's output from ##_randomer_processing.sh with, at a minimum, a column with each randomer sequence and it's correpondent UMI counts"
   ]
  },
  {
   "cell_type": "code",
   "execution_count": 3,
   "id": "69fcf93b-eb62-4c05-b24e-98bf08a13e8d",
   "metadata": {},
   "outputs": [],
   "source": [
    "#Import dataset\n",
    "randomer=pd.read_table('./randomer_completecounts.tsv',delimiter='\\t')"
   ]
  },
  {
   "cell_type": "code",
   "execution_count": 4,
   "id": "0e9e788f-15a4-47ff-9d05-7b1a8a902217",
   "metadata": {},
   "outputs": [
    {
     "name": "stdout",
     "output_type": "stream",
     "text": [
      "Number of unique barcodes identified in randomer dataset:\n",
      "7525099\n",
      "Number of unique barcodes remaining after removing N sequences:\n",
      "5434075\n"
     ]
    }
   ],
   "source": [
    "#Filter out any barcodes with N base pairs\n",
    "print('Number of unique barcodes identified in randomer dataset:')\n",
    "print(len(randomer))\n",
    "discard = [\"N\"]\n",
    "randomer_filtered = randomer[~randomer.barcode.str.contains('|'.join(discard))]\n",
    "print('Number of unique barcodes remaining after removing N sequences:')\n",
    "print(len(randomer_filtered))"
   ]
  },
  {
   "cell_type": "code",
   "execution_count": 5,
   "id": "d2ab2f9f-8966-442f-9147-8cda73364079",
   "metadata": {},
   "outputs": [
    {
     "name": "stderr",
     "output_type": "stream",
     "text": [
      "/var/folders/5l/rz29hct17d916rns_lvv75dw0000gn/T/ipykernel_22042/1922764893.py:2: SettingWithCopyWarning: \n",
      "A value is trying to be set on a copy of a slice from a DataFrame\n",
      "\n",
      "See the caveats in the documentation: https://pandas.pydata.org/pandas-docs/stable/user_guide/indexing.html#returning-a-view-versus-a-copy\n",
      "  randomer_filtered.rename(columns={'UMI_Count': 'read_count'}, inplace=True)\n",
      "/var/folders/5l/rz29hct17d916rns_lvv75dw0000gn/T/ipykernel_22042/1922764893.py:3: SettingWithCopyWarning: \n",
      "A value is trying to be set on a copy of a slice from a DataFrame\n",
      "\n",
      "See the caveats in the documentation: https://pandas.pydata.org/pandas-docs/stable/user_guide/indexing.html#returning-a-view-versus-a-copy\n",
      "  randomer_filtered.rename(columns={'barcode': 'vbc_read'}, inplace=True)\n"
     ]
    },
    {
     "data": {
      "text/html": [
       "<div>\n",
       "<style scoped>\n",
       "    .dataframe tbody tr th:only-of-type {\n",
       "        vertical-align: middle;\n",
       "    }\n",
       "\n",
       "    .dataframe tbody tr th {\n",
       "        vertical-align: top;\n",
       "    }\n",
       "\n",
       "    .dataframe thead th {\n",
       "        text-align: right;\n",
       "    }\n",
       "</style>\n",
       "<table border=\"1\" class=\"dataframe\">\n",
       "  <thead>\n",
       "    <tr style=\"text-align: right;\">\n",
       "      <th></th>\n",
       "      <th>CBC</th>\n",
       "      <th>vbc_read</th>\n",
       "      <th>read_count</th>\n",
       "    </tr>\n",
       "  </thead>\n",
       "  <tbody>\n",
       "    <tr>\n",
       "      <th>0</th>\n",
       "      <td>b'AAAAAAAAAAAA'</td>\n",
       "      <td>AAAAAAAAAAAAAAAAAAAAAAAAAAAAAA</td>\n",
       "      <td>3</td>\n",
       "    </tr>\n",
       "    <tr>\n",
       "      <th>1</th>\n",
       "      <td>b'AAAAAAAAAAAA'</td>\n",
       "      <td>AAAAAAAAAAAAAAAAAAAAAAAAAAACAA</td>\n",
       "      <td>1</td>\n",
       "    </tr>\n",
       "    <tr>\n",
       "      <th>2</th>\n",
       "      <td>b'AAAAAAAAAAAA'</td>\n",
       "      <td>AAAAAAAAAAAAAAAAAAAAAAAAAACCAA</td>\n",
       "      <td>1</td>\n",
       "    </tr>\n",
       "    <tr>\n",
       "      <th>3</th>\n",
       "      <td>b'AAAAAAAAAAAA'</td>\n",
       "      <td>AAAAAAAAAAAAAAAAAAAAAAACAAAAAA</td>\n",
       "      <td>1</td>\n",
       "    </tr>\n",
       "    <tr>\n",
       "      <th>4</th>\n",
       "      <td>b'AAAAAAAAAAAA'</td>\n",
       "      <td>AAAAAAAAAAAAAAAAAAAAACAAAAAAAA</td>\n",
       "      <td>1</td>\n",
       "    </tr>\n",
       "    <tr>\n",
       "      <th>...</th>\n",
       "      <td>...</td>\n",
       "      <td>...</td>\n",
       "      <td>...</td>\n",
       "    </tr>\n",
       "    <tr>\n",
       "      <th>7525094</th>\n",
       "      <td>b'AAAAAAAAAAAA'</td>\n",
       "      <td>TTTTTTTTTTTGCGCTCCCAGCGCCCTCAA</td>\n",
       "      <td>1</td>\n",
       "    </tr>\n",
       "    <tr>\n",
       "      <th>7525095</th>\n",
       "      <td>b'AAAAAAAAAAAA'</td>\n",
       "      <td>TTTTTTTTTTTTAATCTTTCACAGACGGTT</td>\n",
       "      <td>1</td>\n",
       "    </tr>\n",
       "    <tr>\n",
       "      <th>7525096</th>\n",
       "      <td>b'AAAAAAAAAAAA'</td>\n",
       "      <td>TTTTTTTTTTTTTTTCATCTCGCAGGCTGC</td>\n",
       "      <td>1</td>\n",
       "    </tr>\n",
       "    <tr>\n",
       "      <th>7525097</th>\n",
       "      <td>b'AAAAAAAAAAAA'</td>\n",
       "      <td>TTTTTTTTTTTTTTTGTTTTTTTTTTTTTT</td>\n",
       "      <td>2</td>\n",
       "    </tr>\n",
       "    <tr>\n",
       "      <th>7525098</th>\n",
       "      <td>b'AAAAAAAAAAAA'</td>\n",
       "      <td>TTTTTTTTTTTTTTTTTTTTTTTTTTTTTT</td>\n",
       "      <td>1</td>\n",
       "    </tr>\n",
       "  </tbody>\n",
       "</table>\n",
       "<p>5434075 rows × 3 columns</p>\n",
       "</div>"
      ],
      "text/plain": [
       "                     CBC                        vbc_read  read_count\n",
       "0        b'AAAAAAAAAAAA'  AAAAAAAAAAAAAAAAAAAAAAAAAAAAAA           3\n",
       "1        b'AAAAAAAAAAAA'  AAAAAAAAAAAAAAAAAAAAAAAAAAACAA           1\n",
       "2        b'AAAAAAAAAAAA'  AAAAAAAAAAAAAAAAAAAAAAAAAACCAA           1\n",
       "3        b'AAAAAAAAAAAA'  AAAAAAAAAAAAAAAAAAAAAAACAAAAAA           1\n",
       "4        b'AAAAAAAAAAAA'  AAAAAAAAAAAAAAAAAAAAACAAAAAAAA           1\n",
       "...                  ...                             ...         ...\n",
       "7525094  b'AAAAAAAAAAAA'  TTTTTTTTTTTGCGCTCCCAGCGCCCTCAA           1\n",
       "7525095  b'AAAAAAAAAAAA'  TTTTTTTTTTTTAATCTTTCACAGACGGTT           1\n",
       "7525096  b'AAAAAAAAAAAA'  TTTTTTTTTTTTTTTCATCTCGCAGGCTGC           1\n",
       "7525097  b'AAAAAAAAAAAA'  TTTTTTTTTTTTTTTGTTTTTTTTTTTTTT           2\n",
       "7525098  b'AAAAAAAAAAAA'  TTTTTTTTTTTTTTTTTTTTTTTTTTTTTT           1\n",
       "\n",
       "[5434075 rows x 3 columns]"
      ]
     },
     "execution_count": 5,
     "metadata": {},
     "output_type": "execute_result"
    }
   ],
   "source": [
    "#Prep for MAPseq collapsing\n",
    "randomer_filtered.rename(columns={'UMI_Count': 'read_count'}, inplace=True)\n",
    "randomer_filtered.rename(columns={'barcode': 'vbc_read'}, inplace=True)\n",
    "randomer_filtered"
   ]
  },
  {
   "cell_type": "markdown",
   "id": "120c1f18-4262-4433-8ed4-192e46744335",
   "metadata": {},
   "source": [
    "## Run data through MAPseq processing pipeline"
   ]
  },
  {
   "cell_type": "markdown",
   "id": "bd8a89b7-ffb7-438b-ba4a-72b20f57c030",
   "metadata": {},
   "source": [
    "For complete pipeline see: https://github.com/ZadorLaboratory/mapseq-processing/tree/main"
   ]
  },
  {
   "cell_type": "markdown",
   "id": "c856fca3-2748-4f30-9569-0d7eb42aba4a",
   "metadata": {},
   "source": [
    "### Import libraries"
   ]
  },
  {
   "cell_type": "code",
   "execution_count": 10,
   "id": "e294a533-d061-4b5c-add9-67f9c5fcf025",
   "metadata": {},
   "outputs": [
    {
     "name": "stdout",
     "output_type": "stream",
     "text": [
      "Done\n"
     ]
    }
   ],
   "source": [
    "# Built-in python libraries\n",
    "import logging\n",
    "import os\n",
    "import sys\n",
    "from configparser import ConfigParser\n",
    "\n",
    "# Data science libraries\n",
    "import pandas as pd\n",
    "import matplotlib.pyplot as plt\n",
    "import seaborn as sns\n",
    "import dask\n",
    "import dask.dataframe as dd\n",
    "from dask.dataframe import from_pandas\n",
    "\n",
    "# For handling barcode tags or other fields with letters and numbers. \n",
    "from natsort import natsorted\n",
    "\n",
    "# Allowing to run our custom libraries from git area. \n",
    "gitpath=os.path.expanduser(\"../../../code/mapseq-processing\")\n",
    "sys.path.append(gitpath)\n",
    "from mapseq.core import *\n",
    "from mapseq.barcode import *\n",
    "from mapseq.utils import *\n",
    "from mapseq.bowtie import *\n",
    "from mapseq.stats import *\n",
    "\n",
    "gitpath=os.path.expanduser(\"../../../code/mapseq-analysis\")\n",
    "sys.path.append(gitpath)\n",
    "#from msanalysis.analysis import * \n",
    "print(\"Done\")"
   ]
  },
  {
   "cell_type": "markdown",
   "id": "e5a0e819-f760-4082-914c-1fe2d8df263d",
   "metadata": {},
   "source": [
    "### Run align_collapse_pd function on the randomer_filtered dataframe"
   ]
  },
  {
   "cell_type": "code",
   "execution_count": 11,
   "id": "b5b19d98-c203-40ee-b436-1c0ec8d2cab1",
   "metadata": {},
   "outputs": [
    {
     "data": {
      "text/html": [
       "<div>\n",
       "<style scoped>\n",
       "    .dataframe tbody tr th:only-of-type {\n",
       "        vertical-align: middle;\n",
       "    }\n",
       "\n",
       "    .dataframe tbody tr th {\n",
       "        vertical-align: top;\n",
       "    }\n",
       "\n",
       "    .dataframe thead th {\n",
       "        text-align: right;\n",
       "    }\n",
       "</style>\n",
       "<table border=\"1\" class=\"dataframe\">\n",
       "  <thead>\n",
       "    <tr style=\"text-align: right;\">\n",
       "      <th></th>\n",
       "      <th>CBC</th>\n",
       "      <th>vbc_read</th>\n",
       "      <th>read_count</th>\n",
       "    </tr>\n",
       "  </thead>\n",
       "  <tbody>\n",
       "    <tr>\n",
       "      <th>0</th>\n",
       "      <td>b'AAAAAAAAAAAA'</td>\n",
       "      <td>AAAAAAAAAAAAAAAAAAAAAAAAAAAAAA</td>\n",
       "      <td>3</td>\n",
       "    </tr>\n",
       "    <tr>\n",
       "      <th>1</th>\n",
       "      <td>b'AAAAAAAAAAAA'</td>\n",
       "      <td>AAAAAAAAAAAAAAAAAAAAAAAAAAACAA</td>\n",
       "      <td>1</td>\n",
       "    </tr>\n",
       "    <tr>\n",
       "      <th>2</th>\n",
       "      <td>b'AAAAAAAAAAAA'</td>\n",
       "      <td>AAAAAAAAAAAAAAAAAAAAAAAAAACCAA</td>\n",
       "      <td>1</td>\n",
       "    </tr>\n",
       "    <tr>\n",
       "      <th>3</th>\n",
       "      <td>b'AAAAAAAAAAAA'</td>\n",
       "      <td>AAAAAAAAAAAAAAAAAAAAAAACAAAAAA</td>\n",
       "      <td>1</td>\n",
       "    </tr>\n",
       "    <tr>\n",
       "      <th>4</th>\n",
       "      <td>b'AAAAAAAAAAAA'</td>\n",
       "      <td>AAAAAAAAAAAAAAAAAAAAACAAAAAAAA</td>\n",
       "      <td>1</td>\n",
       "    </tr>\n",
       "    <tr>\n",
       "      <th>...</th>\n",
       "      <td>...</td>\n",
       "      <td>...</td>\n",
       "      <td>...</td>\n",
       "    </tr>\n",
       "    <tr>\n",
       "      <th>7525094</th>\n",
       "      <td>b'AAAAAAAAAAAA'</td>\n",
       "      <td>TTTTTTTTTTTGCGCTCCCAGCGCCCTCAA</td>\n",
       "      <td>1</td>\n",
       "    </tr>\n",
       "    <tr>\n",
       "      <th>7525095</th>\n",
       "      <td>b'AAAAAAAAAAAA'</td>\n",
       "      <td>TTTTTTTTTTTTAATCTTTCACAGACGGTT</td>\n",
       "      <td>1</td>\n",
       "    </tr>\n",
       "    <tr>\n",
       "      <th>7525096</th>\n",
       "      <td>b'AAAAAAAAAAAA'</td>\n",
       "      <td>TTTTTTTTTTTTTTTCATCTCGCAGGCTGC</td>\n",
       "      <td>1</td>\n",
       "    </tr>\n",
       "    <tr>\n",
       "      <th>7525097</th>\n",
       "      <td>b'AAAAAAAAAAAA'</td>\n",
       "      <td>TTTTTTTTTTTTTTTGTTTTTTTTTTTTTT</td>\n",
       "      <td>2</td>\n",
       "    </tr>\n",
       "    <tr>\n",
       "      <th>7525098</th>\n",
       "      <td>b'AAAAAAAAAAAA'</td>\n",
       "      <td>TTTTTTTTTTTTTTTTTTTTTTTTTTTTTT</td>\n",
       "      <td>1</td>\n",
       "    </tr>\n",
       "  </tbody>\n",
       "</table>\n",
       "<p>5434075 rows × 3 columns</p>\n",
       "</div>"
      ],
      "text/plain": [
       "                     CBC                        vbc_read  read_count\n",
       "0        b'AAAAAAAAAAAA'  AAAAAAAAAAAAAAAAAAAAAAAAAAAAAA           3\n",
       "1        b'AAAAAAAAAAAA'  AAAAAAAAAAAAAAAAAAAAAAAAAAACAA           1\n",
       "2        b'AAAAAAAAAAAA'  AAAAAAAAAAAAAAAAAAAAAAAAAACCAA           1\n",
       "3        b'AAAAAAAAAAAA'  AAAAAAAAAAAAAAAAAAAAAAACAAAAAA           1\n",
       "4        b'AAAAAAAAAAAA'  AAAAAAAAAAAAAAAAAAAAACAAAAAAAA           1\n",
       "...                  ...                             ...         ...\n",
       "7525094  b'AAAAAAAAAAAA'  TTTTTTTTTTTGCGCTCCCAGCGCCCTCAA           1\n",
       "7525095  b'AAAAAAAAAAAA'  TTTTTTTTTTTTAATCTTTCACAGACGGTT           1\n",
       "7525096  b'AAAAAAAAAAAA'  TTTTTTTTTTTTTTTCATCTCGCAGGCTGC           1\n",
       "7525097  b'AAAAAAAAAAAA'  TTTTTTTTTTTTTTTGTTTTTTTTTTTTTT           2\n",
       "7525098  b'AAAAAAAAAAAA'  TTTTTTTTTTTTTTTTTTTTTTTTTTTTTT           1\n",
       "\n",
       "[5434075 rows x 3 columns]"
      ]
     },
     "execution_count": 11,
     "metadata": {},
     "output_type": "execute_result"
    }
   ],
   "source": [
    "randomer_filtered"
   ]
  },
  {
   "cell_type": "code",
   "execution_count": 13,
   "id": "c4e9fd11-a9eb-4b06-9e11-54fb2ec2dc30",
   "metadata": {},
   "outputs": [
    {
     "name": "stdout",
     "output_type": "stream",
     "text": [
      "5434075\n",
      "135563481\n"
     ]
    }
   ],
   "source": [
    "print(randomer_filtered['vbc_read'].nunique())\n",
    "print(randomer_filtered['read_count'].sum())"
   ]
  },
  {
   "cell_type": "code",
   "execution_count": 17,
   "id": "b99f520a-889f-4fcd-8a5a-61638030a06e",
   "metadata": {},
   "outputs": [
    {
     "data": {
      "text/plain": [
       "[]"
      ]
     },
     "execution_count": 17,
     "metadata": {},
     "output_type": "execute_result"
    }
   ],
   "source": [
    "#cp = get_default_config()\n",
    "configfile = os.path.expanduser('/Users/maddieurbanek/Desktop/revision_data/resubmission/code/mapseq-processing/misc/htna2024')\n",
    "cp = ConfigParser()\n",
    "cp.read(configfile)\n",
    "#logging.getLogger().setLevel(logging.INFO)\n",
    "#sampleinfo = os.path.expanduser('~/project/mapseq/M205/M205_sampleinfo.xlsx')\n",
    "#bcfile = os.path.expanduser( cp.get('barcodes','ssifile') )\n",
    "#project_id = cp.get('project','project_id')\n",
    "\n",
    "#infilelist = [\n",
    "#    os.path.expanduser('~/project/mapseq/M205/fastq/M205_HZ_S1_R1_001.fastq.gz'),\n",
    "#    os.path.expanduser('~/project/mapseq/M205/fastq/M205_HZ_S1_R2_001.fastq.gz')\n",
    "#          ]\n",
    "#infiles = package_pairs(infilelist)\n",
    "#outdir = os.path.expanduser('~/project/mapseq/M205')\n",
    "#print(f\"For {project_id}:\\nconfig={configfile}\\nbcfile={bcfile}\\ninfiles={infiles}\\noutdir={outdir}\\nDone\")"
   ]
  },
  {
   "cell_type": "code",
   "execution_count": 19,
   "id": "29c63af7-ff01-4ff5-9aad-91fe5c67b592",
   "metadata": {},
   "outputs": [
    {
     "ename": "NoSectionError",
     "evalue": "No section: 'collapse'",
     "output_type": "error",
     "traceback": [
      "\u001b[0;31m---------------------------------------------------------------------------\u001b[0m",
      "\u001b[0;31mNoSectionError\u001b[0m                            Traceback (most recent call last)",
      "Cell \u001b[0;32mIn[19], line 2\u001b[0m\n\u001b[1;32m      1\u001b[0m \u001b[38;5;66;03m#cp = ConfigParser()\u001b[39;00m\n\u001b[0;32m----> 2\u001b[0m cdf \u001b[38;5;241m=\u001b[39m \u001b[43malign_collapse_pd\u001b[49m\u001b[43m(\u001b[49m\u001b[43mrandomer_filtered\u001b[49m\u001b[38;5;241;43m.\u001b[39;49m\u001b[43mcopy\u001b[49m\u001b[43m(\u001b[49m\u001b[43m)\u001b[49m\u001b[43m,\u001b[49m\u001b[43m \u001b[49m\n\u001b[1;32m      3\u001b[0m \u001b[43m                       \u001b[49m\u001b[43moutdir\u001b[49m\u001b[38;5;241;43m=\u001b[39;49m\u001b[38;5;124;43m'\u001b[39;49m\u001b[38;5;124;43m./collapsed_randomer.csv\u001b[39;49m\u001b[38;5;124;43m'\u001b[39;49m\u001b[43m,\u001b[49m\u001b[43m \u001b[49m\n\u001b[1;32m      4\u001b[0m \u001b[43m                       \u001b[49m\u001b[43mcp\u001b[49m\u001b[38;5;241;43m=\u001b[39;49m\u001b[43mcp\u001b[49m\u001b[43m)\u001b[49m\n\u001b[1;32m      5\u001b[0m cdf\n",
      "File \u001b[0;32m~/Desktop/revision_data/resubmission/data/fastqs/randomer/../../../code/mapseq-processing/mapseq/collapse.py:46\u001b[0m, in \u001b[0;36malign_collapse_pd\u001b[0;34m(df, column, pcolumn, max_mismatch, max_recursion, outdir, datestr, force, cp)\u001b[0m\n\u001b[1;32m     43\u001b[0m \u001b[38;5;28;01mif\u001b[39;00m cp \u001b[38;5;129;01mis\u001b[39;00m \u001b[38;5;28;01mNone\u001b[39;00m:\n\u001b[1;32m     44\u001b[0m     cp \u001b[38;5;241m=\u001b[39m get_default_config()\n\u001b[0;32m---> 46\u001b[0m aligner \u001b[38;5;241m=\u001b[39m \u001b[43mcp\u001b[49m\u001b[38;5;241;43m.\u001b[39;49m\u001b[43mget\u001b[49m\u001b[43m(\u001b[49m\u001b[38;5;124;43m'\u001b[39;49m\u001b[38;5;124;43mcollapse\u001b[39;49m\u001b[38;5;124;43m'\u001b[39;49m\u001b[43m,\u001b[49m\u001b[38;5;124;43m'\u001b[39;49m\u001b[38;5;124;43mtool\u001b[39;49m\u001b[38;5;124;43m'\u001b[39;49m\u001b[43m)\u001b[49m    \n\u001b[1;32m     47\u001b[0m \u001b[38;5;28;01mif\u001b[39;00m max_mismatch \u001b[38;5;129;01mis\u001b[39;00m \u001b[38;5;28;01mNone\u001b[39;00m:\n\u001b[1;32m     48\u001b[0m     max_mismatch \u001b[38;5;241m=\u001b[39m \u001b[38;5;28mint\u001b[39m(cp\u001b[38;5;241m.\u001b[39mget(\u001b[38;5;124m'\u001b[39m\u001b[38;5;124mcollapse\u001b[39m\u001b[38;5;124m'\u001b[39m, \u001b[38;5;124m'\u001b[39m\u001b[38;5;124mmax_mismatch\u001b[39m\u001b[38;5;124m'\u001b[39m))\n",
      "File \u001b[0;32m/Library/Developer/CommandLineTools/Library/Frameworks/Python3.framework/Versions/3.9/lib/python3.9/configparser.py:781\u001b[0m, in \u001b[0;36mRawConfigParser.get\u001b[0;34m(self, section, option, raw, vars, fallback)\u001b[0m\n\u001b[1;32m    766\u001b[0m \u001b[38;5;250m\u001b[39m\u001b[38;5;124;03m\"\"\"Get an option value for a given section.\u001b[39;00m\n\u001b[1;32m    767\u001b[0m \n\u001b[1;32m    768\u001b[0m \u001b[38;5;124;03mIf `vars' is provided, it must be a dictionary. The option is looked up\u001b[39;00m\n\u001b[0;32m   (...)\u001b[0m\n\u001b[1;32m    778\u001b[0m \u001b[38;5;124;03mThe section DEFAULT is special.\u001b[39;00m\n\u001b[1;32m    779\u001b[0m \u001b[38;5;124;03m\"\"\"\u001b[39;00m\n\u001b[1;32m    780\u001b[0m \u001b[38;5;28;01mtry\u001b[39;00m:\n\u001b[0;32m--> 781\u001b[0m     d \u001b[38;5;241m=\u001b[39m \u001b[38;5;28;43mself\u001b[39;49m\u001b[38;5;241;43m.\u001b[39;49m\u001b[43m_unify_values\u001b[49m\u001b[43m(\u001b[49m\u001b[43msection\u001b[49m\u001b[43m,\u001b[49m\u001b[43m \u001b[49m\u001b[38;5;28;43mvars\u001b[39;49m\u001b[43m)\u001b[49m\n\u001b[1;32m    782\u001b[0m \u001b[38;5;28;01mexcept\u001b[39;00m NoSectionError:\n\u001b[1;32m    783\u001b[0m     \u001b[38;5;28;01mif\u001b[39;00m fallback \u001b[38;5;129;01mis\u001b[39;00m _UNSET:\n",
      "File \u001b[0;32m/Library/Developer/CommandLineTools/Library/Frameworks/Python3.framework/Versions/3.9/lib/python3.9/configparser.py:1152\u001b[0m, in \u001b[0;36mRawConfigParser._unify_values\u001b[0;34m(self, section, vars)\u001b[0m\n\u001b[1;32m   1150\u001b[0m \u001b[38;5;28;01mexcept\u001b[39;00m \u001b[38;5;167;01mKeyError\u001b[39;00m:\n\u001b[1;32m   1151\u001b[0m     \u001b[38;5;28;01mif\u001b[39;00m section \u001b[38;5;241m!=\u001b[39m \u001b[38;5;28mself\u001b[39m\u001b[38;5;241m.\u001b[39mdefault_section:\n\u001b[0;32m-> 1152\u001b[0m         \u001b[38;5;28;01mraise\u001b[39;00m NoSectionError(section) \u001b[38;5;28;01mfrom\u001b[39;00m\u001b[38;5;250m \u001b[39m\u001b[38;5;28;01mNone\u001b[39;00m\n\u001b[1;32m   1153\u001b[0m \u001b[38;5;66;03m# Update with the entry specific variables\u001b[39;00m\n\u001b[1;32m   1154\u001b[0m vardict \u001b[38;5;241m=\u001b[39m {}\n",
      "\u001b[0;31mNoSectionError\u001b[0m: No section: 'collapse'"
     ]
    }
   ],
   "source": [
    "#cp = ConfigParser()\n",
    "cdf = align_collapse_pd(randomer_filtered.copy(), \n",
    "                       outdir='./collapsed_randomer.csv', \n",
    "                       cp=cp)\n",
    "cdf"
   ]
  },
  {
   "cell_type": "code",
   "execution_count": null,
   "id": "69c40f5c-2e6a-4498-b42f-5e32bf43856e",
   "metadata": {},
   "outputs": [],
   "source": []
  },
  {
   "cell_type": "markdown",
   "id": "e8495d21-c342-4d30-bdb0-82f8d50d736c",
   "metadata": {},
   "source": [
    "## Re-sum UMIs, accounting for collapsed barcodes"
   ]
  },
  {
   "cell_type": "code",
   "execution_count": null,
   "id": "41551fda-17fa-4ce9-b06c-44c62c3b8486",
   "metadata": {},
   "outputs": [],
   "source": [
    "final_collapsed=collapsed.groupby('vbc_read_col')['read_count'].sum()\n",
    "final_collapsed = pd.DataFrame(final_collapsed)\n",
    "final_collapsed = final_collapsed.reset_index()"
   ]
  },
  {
   "cell_type": "markdown",
   "id": "0e2d51ee-5544-464b-9940-f58d3a716e41",
   "metadata": {},
   "source": [
    "## Export collapsed randomer counts matrix to local machine"
   ]
  },
  {
   "cell_type": "code",
   "execution_count": null,
   "id": "07bb5c91-b20e-4903-9186-b5c35140f394",
   "metadata": {},
   "outputs": [],
   "source": [
    "final_collapsed.to_csv('../barcode_diversity_libraries/cvs/collapsed_randomer.csv')"
   ]
  }
 ],
 "metadata": {
  "kernelspec": {
   "display_name": "Python 3 (ipykernel)",
   "language": "python",
   "name": "python3"
  },
  "language_info": {
   "codemirror_mode": {
    "name": "ipython",
    "version": 3
   },
   "file_extension": ".py",
   "mimetype": "text/x-python",
   "name": "python",
   "nbconvert_exporter": "python",
   "pygments_lexer": "ipython3",
   "version": "3.9.6"
  }
 },
 "nbformat": 4,
 "nbformat_minor": 5
}
